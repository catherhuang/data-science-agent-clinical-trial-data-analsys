{
  "nbformat": 4,
  "nbformat_minor": 0,
  "metadata": {
    "colab": {
      "name": "BigQuery table",
      "cell_execution_strategy": "setup",
      "provenance": []
    },
    "kernelspec": {
      "name": "python3",
      "display_name": "Python 3"
    },
    "language_info": {
      "name": "python"
    }
  },
  "cells": [
    {
      "cell_type": "markdown",
      "source": [
        "# **Analyze Clinical Trial data with Data science Agent Demo**\n",
        "\n",
        "Key ways biotech data scientists can use the Data Science Agent:\n",
        "\n",
        "*   **Acccelerate Druge Discovery and Development**: the agent can automate the analysis of large biological datasets, such as genomics and proteomics data, to identify potential drug targets and biomarkers more rapidly. It can also assist in building and optimizing predictive models to assess the efficacy and safety of drug candidates in early stage development. The dramatically shorten drug discovery timeline that is costly and time consuming.\n",
        "*   **Streamline clinical trial**: data science agent can analyze clinical trial data in real time, help identify patient populations that are most likely to respond to a particular treatment. Help moniotor for adverse evnts and other issues that may affect trial outcomes, allowing for timely interventions, and adjustments. Leads to more efficient and succssful clinical trial.\n",
        "*   **Personalized Medicine**: the agent can help in developing personalized treatment plans by analyzing individual patient data, including their genetic makeup and other biomarkers. This can lead to more effective therapies with fewer side effects, improving patient outcomes and reducing healthcare costs.\n",
        "*   **Enhanced Research and Development**: To help researchers stay at the forefront of their field and make more informed decisions about their research direction, the agent can automate the process of literature review, systematically analyzing thousands of scientific publications to identify relevant insights and emerging trends.\n",
        "*   **Process Optimization in Manufacturing**: In the manufacturing of biologics, the agent can be used to analyze sensor data from equipment to predict and prevent failures, optimizing production and reducing downtime. It can also help in managing the supply chain by improving demand forecasting and inventory management.\n",
        "\n",
        "\n",
        "These key ways to leverage data science agent translate to reducing costs and timeline, increase R&D productivity, improve decision making,  gain competitive advange, and enhance collaboration."
      ],
      "metadata": {
        "id": "zbv5mzQmXMnn"
      }
    },
    {
      "cell_type": "code",
      "source": [
        "# import bigframes\n",
        "import bigframes.pandas as bpd\n",
        "# import pandas and numpy\n",
        "import pandas as pd\n",
        "import numpy as np"
      ],
      "metadata": {
        "id": "CsZWYImTT7hy",
        "executionInfo": {
          "status": "ok",
          "timestamp": 1755193888183,
          "user_tz": 240,
          "elapsed": 256,
          "user": {
            "displayName": "",
            "userId": ""
          }
        }
      },
      "execution_count": 25,
      "outputs": []
    },
    {
      "cell_type": "code",
      "source": [
        "bpd.options.bigquery.project = \"cat-looker-core-argolis-demo\"\n",
        "df = bpd.read_gbq(\"cat-looker-core-argolis-demo.cat_demo_data.heart_failure_clinical_records_final\")\n",
        "df.head()"
      ],
      "metadata": {
        "colab": {
          "base_uri": "https://localhost:8080/",
          "height": 550
        },
        "id": "9wBiDSsbVDqo",
        "executionInfo": {
          "status": "ok",
          "timestamp": 1755193908239,
          "user_tz": 240,
          "elapsed": 5564,
          "user": {
            "displayName": "",
            "userId": ""
          }
        },
        "outputId": "3e09f184-98bb-4244-becd-0f4742ee1d5a"
      },
      "execution_count": 27,
      "outputs": [
        {
          "output_type": "display_data",
          "data": {
            "text/plain": [
              "<IPython.core.display.HTML object>"
            ],
            "text/html": [
              "Query job 76b8c7d8-fc57-43b3-9893-53a383680450 is DONE. 44.9 kB processed. <a target=\"_blank\" href=\"https://console.cloud.google.com/bigquery?project=cat-looker-core-argolis-demo&j=bq:US:76b8c7d8-fc57-43b3-9893-53a383680450&page=queryresults\">Open Job</a>"
            ]
          },
          "metadata": {}
        },
        {
          "output_type": "execute_result",
          "data": {
            "text/plain": [
              "    age  anaemia  creatinine_phosphokinase  diabetes  ejection_fraction  \\\n",
              "0  65.0        1                       335         0                 35   \n",
              "1  73.0        0                       582         0                 20   \n",
              "2  50.0        0                       582         0                 50   \n",
              "3  70.0        0                        66         1                 45   \n",
              "4  66.0        1                        68         1                 38   \n",
              "\n",
              "   high_blood_pressure  platelets  serum_creatinine  serum_sodium  sex  \\\n",
              "0                    1   235000.0               0.8           136    0   \n",
              "1                    0  263358.03              1.83           134    1   \n",
              "2                    0   153000.0               0.6           134    0   \n",
              "3                    0   249000.0               0.8           136    1   \n",
              "4                    1   162000.0               1.0           136    0   \n",
              "\n",
              "   smoking  time  DEATH_EVENT                             unique_id  treatment  \n",
              "0        0   120            0  3542bb8b-3bea-4189-b7f5-50598503b306          1  \n",
              "1        0   198            1  cb04582a-473d-475c-84ce-aa8b1acc93f5          1  \n",
              "2        0   172            1  babbe205-8f3b-457f-850b-312a034d015e          0  \n",
              "3        1    80            0  705f0252-7826-47d7-849f-de97954bd496          1  \n",
              "4        0    95            0  3741e794-4b7f-4012-9256-8226fc56205d          1  \n",
              "\n",
              "[5 rows x 15 columns]"
            ],
            "text/html": [
              "<div>\n",
              "<style scoped>\n",
              "    .dataframe tbody tr th:only-of-type {\n",
              "        vertical-align: middle;\n",
              "    }\n",
              "\n",
              "    .dataframe tbody tr th {\n",
              "        vertical-align: top;\n",
              "    }\n",
              "\n",
              "    .dataframe thead th {\n",
              "        text-align: right;\n",
              "    }\n",
              "</style>\n",
              "<table border=\"1\" class=\"dataframe\">\n",
              "  <thead>\n",
              "    <tr style=\"text-align: right;\">\n",
              "      <th></th>\n",
              "      <th>age</th>\n",
              "      <th>anaemia</th>\n",
              "      <th>creatinine_phosphokinase</th>\n",
              "      <th>diabetes</th>\n",
              "      <th>ejection_fraction</th>\n",
              "      <th>high_blood_pressure</th>\n",
              "      <th>platelets</th>\n",
              "      <th>serum_creatinine</th>\n",
              "      <th>serum_sodium</th>\n",
              "      <th>sex</th>\n",
              "      <th>smoking</th>\n",
              "      <th>time</th>\n",
              "      <th>DEATH_EVENT</th>\n",
              "      <th>unique_id</th>\n",
              "      <th>treatment</th>\n",
              "    </tr>\n",
              "  </thead>\n",
              "  <tbody>\n",
              "    <tr>\n",
              "      <th>0</th>\n",
              "      <td>65.0</td>\n",
              "      <td>1</td>\n",
              "      <td>335</td>\n",
              "      <td>0</td>\n",
              "      <td>35</td>\n",
              "      <td>1</td>\n",
              "      <td>235000.0</td>\n",
              "      <td>0.8</td>\n",
              "      <td>136</td>\n",
              "      <td>0</td>\n",
              "      <td>0</td>\n",
              "      <td>120</td>\n",
              "      <td>0</td>\n",
              "      <td>3542bb8b-3bea-4189-b7f5-50598503b306</td>\n",
              "      <td>1</td>\n",
              "    </tr>\n",
              "    <tr>\n",
              "      <th>1</th>\n",
              "      <td>73.0</td>\n",
              "      <td>0</td>\n",
              "      <td>582</td>\n",
              "      <td>0</td>\n",
              "      <td>20</td>\n",
              "      <td>0</td>\n",
              "      <td>263358.03</td>\n",
              "      <td>1.83</td>\n",
              "      <td>134</td>\n",
              "      <td>1</td>\n",
              "      <td>0</td>\n",
              "      <td>198</td>\n",
              "      <td>1</td>\n",
              "      <td>cb04582a-473d-475c-84ce-aa8b1acc93f5</td>\n",
              "      <td>1</td>\n",
              "    </tr>\n",
              "    <tr>\n",
              "      <th>2</th>\n",
              "      <td>50.0</td>\n",
              "      <td>0</td>\n",
              "      <td>582</td>\n",
              "      <td>0</td>\n",
              "      <td>50</td>\n",
              "      <td>0</td>\n",
              "      <td>153000.0</td>\n",
              "      <td>0.6</td>\n",
              "      <td>134</td>\n",
              "      <td>0</td>\n",
              "      <td>0</td>\n",
              "      <td>172</td>\n",
              "      <td>1</td>\n",
              "      <td>babbe205-8f3b-457f-850b-312a034d015e</td>\n",
              "      <td>0</td>\n",
              "    </tr>\n",
              "    <tr>\n",
              "      <th>3</th>\n",
              "      <td>70.0</td>\n",
              "      <td>0</td>\n",
              "      <td>66</td>\n",
              "      <td>1</td>\n",
              "      <td>45</td>\n",
              "      <td>0</td>\n",
              "      <td>249000.0</td>\n",
              "      <td>0.8</td>\n",
              "      <td>136</td>\n",
              "      <td>1</td>\n",
              "      <td>1</td>\n",
              "      <td>80</td>\n",
              "      <td>0</td>\n",
              "      <td>705f0252-7826-47d7-849f-de97954bd496</td>\n",
              "      <td>1</td>\n",
              "    </tr>\n",
              "    <tr>\n",
              "      <th>4</th>\n",
              "      <td>66.0</td>\n",
              "      <td>1</td>\n",
              "      <td>68</td>\n",
              "      <td>1</td>\n",
              "      <td>38</td>\n",
              "      <td>1</td>\n",
              "      <td>162000.0</td>\n",
              "      <td>1.0</td>\n",
              "      <td>136</td>\n",
              "      <td>0</td>\n",
              "      <td>0</td>\n",
              "      <td>95</td>\n",
              "      <td>0</td>\n",
              "      <td>3741e794-4b7f-4012-9256-8226fc56205d</td>\n",
              "      <td>1</td>\n",
              "    </tr>\n",
              "  </tbody>\n",
              "</table>\n",
              "<p>5 rows × 15 columns</p>\n",
              "</div>[5 rows x 15 columns in total]"
            ]
          },
          "metadata": {},
          "execution_count": 27
        }
      ]
    },
    {
      "cell_type": "markdown",
      "source": [
        "**Prompt 1** Data exploration - ask agent to provide high level overview of the data similar to functions like \"df.describe()\", and \"def.info()\"\n",
        "\n",
        "\"Summarize the df dataframe. What are the columns, what do they represent, and are there any missing values?\"\n",
        "\n",
        "\n",
        "\n"
      ],
      "metadata": {
        "id": "bCBkXsEuZ3Dp"
      }
    },
    {
      "cell_type": "code",
      "metadata": {
        "colab": {
          "base_uri": "https://localhost:8080/",
          "height": 416
        },
        "id": "f0c60fd3",
        "executionInfo": {
          "status": "ok",
          "timestamp": 1755188097381,
          "user_tz": 240,
          "elapsed": 17421,
          "user": {
            "displayName": "",
            "userId": ""
          }
        },
        "outputId": "b148b7be-2285-4d80-d455-f45835b0a30f"
      },
      "source": [
        "\df.info()"
      ],
      "execution_count": 8,
      "outputs": [
        {
          "output_type": "stream",
          "name": "stdout",
          "text": [
            "<class 'bigframes.dataframe.DataFrame'>\n"
          ]
        },
        {
          "output_type": "display_data",
          "data": {
            "text/plain": [
              "<IPython.core.display.HTML object>"
            ],
            "text/html": [
              "Query job f5cc2dbe-4848-4c3e-bcc8-3f298f2970e2 is DONE. 31.1 kB processed. <a target=\"_blank\" href=\"https://console.cloud.google.com/bigquery?project=cat-looker-core-argolis-demo&j=bq:US:f5cc2dbe-4848-4c3e-bcc8-3f298f2970e2&page=queryresults\">Open Job</a>"
            ]
          },
          "metadata": {}
        },
        {
          "output_type": "display_data",
          "data": {
            "text/plain": [
              "<IPython.core.display.HTML object>"
            ],
            "text/html": [
              "Query job 7d73ba10-1f8b-47f6-ac0c-6d58aa070af6 is DONE. 31.1 kB processed. <a target=\"_blank\" href=\"https://console.cloud.google.com/bigquery?project=cat-looker-core-argolis-demo&j=bq:US:7d73ba10-1f8b-47f6-ac0c-6d58aa070af6&page=queryresults\">Open Job</a>"
            ]
          },
          "metadata": {}
        },
        {
          "output_type": "stream",
          "name": "stdout",
          "text": [
            "Index: 299 entries, 0 to 298\n",
            "Data columns (total 13 columns):\n"
          ]
        },
        {
          "output_type": "display_data",
          "data": {
            "text/plain": [
              "<IPython.core.display.HTML object>"
            ],
            "text/html": [
              "Query job 7399d6b7-b30c-4381-abb3-3444f43df4df is DONE. 31.1 kB processed. <a target=\"_blank\" href=\"https://console.cloud.google.com/bigquery?project=cat-looker-core-argolis-demo&j=bq:US:7399d6b7-b30c-4381-abb3-3444f43df4df&page=queryresults\">Open Job</a>"
            ]
          },
          "metadata": {}
        },
        {
          "output_type": "stream",
          "name": "stdout",
          "text": [
            "  #  Column                    Non-Null Count    Dtype\n",
            "---  ------------------------  ----------------  -------\n",
            "  0  age                       299 non-null      Float64\n",
            "  1  anaemia                   299 non-null      Int64\n",
            "  2  creatinine_phosphokinase  299 non-null      Int64\n",
            "  3  diabetes                  299 non-null      Int64\n",
            "  4  ejection_fraction         299 non-null      Int64\n",
            "  5  high_blood_pressure       299 non-null      Int64\n",
            "  6  platelets                 299 non-null      Float64\n",
            "  7  serum_creatinine          299 non-null      Float64\n",
            "  8  serum_sodium              299 non-null      Int64\n",
            "  9  sex                       299 non-null      Int64\n",
            " 10  smoking                   299 non-null      Int64\n",
            " 11  time                      299 non-null      Int64\n",
            " 12  DEATH_EVENT               299 non-null      Int64\n",
            "dtypes: Float64(3), Int64(10)\n",
            "memory usage: 33488 bytes\n"
          ]
        }
      ]
    },
    {
      "cell_type": "code",
      "metadata": {
        "colab": {
          "base_uri": "https://localhost:8080/",
          "height": 384
        },
        "id": "6f80c552",
        "executionInfo": {
          "status": "ok",
          "timestamp": 1755188103667,
          "user_tz": 240,
          "elapsed": 5792,
          "user": {
            "displayName": "",
            "userId": ""
          }
        },
        "outputId": "23dfdc1c-301f-4476-af3c-560ab85fb3e2"
      },
      "source": [
        "# Get summary statistics\n",
        "df.describe()"
      ],
      "execution_count": 9,
      "outputs": [
        {
          "output_type": "display_data",
          "data": {
            "text/plain": [
              "<IPython.core.display.HTML object>"
            ],
            "text/html": [
              "Query job edf2beae-176a-4d49-b3c8-710cf60a2ba5 is DONE. 31.1 kB processed. <a target=\"_blank\" href=\"https://console.cloud.google.com/bigquery?project=cat-looker-core-argolis-demo&j=bq:US:edf2beae-176a-4d49-b3c8-710cf60a2ba5&page=queryresults\">Open Job</a>"
            ]
          },
          "metadata": {}
        },
        {
          "output_type": "execute_result",
          "data": {
            "text/plain": [
              "             age   anaemia  creatinine_phosphokinase  diabetes  \\\n",
              "count      299.0     299.0                     299.0     299.0   \n",
              "mean   60.837237  0.431438                581.839465   0.41806   \n",
              "std    11.900919  0.496107                970.287881  0.494067   \n",
              "min         40.0       0.0                      23.0       0.0   \n",
              "25%         50.0       0.0                     115.0       0.0   \n",
              "50%         60.0       0.0                     249.0       0.0   \n",
              "75%         70.0       1.0                     582.0       1.0   \n",
              "max         95.0       1.0                    7861.0       1.0   \n",
              "\n",
              "       ejection_fraction  high_blood_pressure      platelets  \\\n",
              "count              299.0                299.0          299.0   \n",
              "mean           38.083612             0.351171  263358.029264   \n",
              "std            11.834841             0.478136   97804.236869   \n",
              "min                 14.0                  0.0        25100.0   \n",
              "25%                 30.0                  0.0       211000.0   \n",
              "50%                 38.0                  0.0       262000.0   \n",
              "75%                 45.0                  1.0       304000.0   \n",
              "max                 80.0                  1.0       850000.0   \n",
              "\n",
              "       serum_creatinine  serum_sodium       sex  smoking       time  \\\n",
              "count             299.0         299.0     299.0    299.0      299.0   \n",
              "mean            1.39388    136.625418  0.648829  0.32107  130.26087   \n",
              "std             1.03451      4.412477  0.478136  0.46767  77.614208   \n",
              "min                 0.5         113.0       0.0      0.0        4.0   \n",
              "25%                 0.9         134.0       0.0      0.0       73.0   \n",
              "50%                 1.1         137.0       1.0      0.0      113.0   \n",
              "75%                 1.4         140.0       1.0      1.0      205.0   \n",
              "max                 9.4         148.0       1.0      1.0      285.0   \n",
              "\n",
              "       DEATH_EVENT  \n",
              "count        299.0  \n",
              "mean       0.32107  \n",
              "std        0.46767  \n",
              "min            0.0  \n",
              "25%            0.0  \n",
              "50%            0.0  \n",
              "75%            1.0  \n",
              "max            1.0  \n",
              "\n",
              "[8 rows x 13 columns]"
            ],
            "text/html": [
              "<div>\n",
              "<style scoped>\n",
              "    .dataframe tbody tr th:only-of-type {\n",
              "        vertical-align: middle;\n",
              "    }\n",
              "\n",
              "    .dataframe tbody tr th {\n",
              "        vertical-align: top;\n",
              "    }\n",
              "\n",
              "    .dataframe thead th {\n",
              "        text-align: right;\n",
              "    }\n",
              "</style>\n",
              "<table border=\"1\" class=\"dataframe\">\n",
              "  <thead>\n",
              "    <tr style=\"text-align: right;\">\n",
              "      <th></th>\n",
              "      <th>age</th>\n",
              "      <th>anaemia</th>\n",
              "      <th>creatinine_phosphokinase</th>\n",
              "      <th>diabetes</th>\n",
              "      <th>ejection_fraction</th>\n",
              "      <th>high_blood_pressure</th>\n",
              "      <th>platelets</th>\n",
              "      <th>serum_creatinine</th>\n",
              "      <th>serum_sodium</th>\n",
              "      <th>sex</th>\n",
              "      <th>smoking</th>\n",
              "      <th>time</th>\n",
              "      <th>DEATH_EVENT</th>\n",
              "    </tr>\n",
              "  </thead>\n",
              "  <tbody>\n",
              "    <tr>\n",
              "      <th>count</th>\n",
              "      <td>299.0</td>\n",
              "      <td>299.0</td>\n",
              "      <td>299.0</td>\n",
              "      <td>299.0</td>\n",
              "      <td>299.0</td>\n",
              "      <td>299.0</td>\n",
              "      <td>299.0</td>\n",
              "      <td>299.0</td>\n",
              "      <td>299.0</td>\n",
              "      <td>299.0</td>\n",
              "      <td>299.0</td>\n",
              "      <td>299.0</td>\n",
              "      <td>299.0</td>\n",
              "    </tr>\n",
              "    <tr>\n",
              "      <th>mean</th>\n",
              "      <td>60.837237</td>\n",
              "      <td>0.431438</td>\n",
              "      <td>581.839465</td>\n",
              "      <td>0.41806</td>\n",
              "      <td>38.083612</td>\n",
              "      <td>0.351171</td>\n",
              "      <td>263358.029264</td>\n",
              "      <td>1.39388</td>\n",
              "      <td>136.625418</td>\n",
              "      <td>0.648829</td>\n",
              "      <td>0.32107</td>\n",
              "      <td>130.26087</td>\n",
              "      <td>0.32107</td>\n",
              "    </tr>\n",
              "    <tr>\n",
              "      <th>std</th>\n",
              "      <td>11.900919</td>\n",
              "      <td>0.496107</td>\n",
              "      <td>970.287881</td>\n",
              "      <td>0.494067</td>\n",
              "      <td>11.834841</td>\n",
              "      <td>0.478136</td>\n",
              "      <td>97804.236869</td>\n",
              "      <td>1.03451</td>\n",
              "      <td>4.412477</td>\n",
              "      <td>0.478136</td>\n",
              "      <td>0.46767</td>\n",
              "      <td>77.614208</td>\n",
              "      <td>0.46767</td>\n",
              "    </tr>\n",
              "    <tr>\n",
              "      <th>min</th>\n",
              "      <td>40.0</td>\n",
              "      <td>0.0</td>\n",
              "      <td>23.0</td>\n",
              "      <td>0.0</td>\n",
              "      <td>14.0</td>\n",
              "      <td>0.0</td>\n",
              "      <td>25100.0</td>\n",
              "      <td>0.5</td>\n",
              "      <td>113.0</td>\n",
              "      <td>0.0</td>\n",
              "      <td>0.0</td>\n",
              "      <td>4.0</td>\n",
              "      <td>0.0</td>\n",
              "    </tr>\n",
              "    <tr>\n",
              "      <th>25%</th>\n",
              "      <td>50.0</td>\n",
              "      <td>0.0</td>\n",
              "      <td>115.0</td>\n",
              "      <td>0.0</td>\n",
              "      <td>30.0</td>\n",
              "      <td>0.0</td>\n",
              "      <td>211000.0</td>\n",
              "      <td>0.9</td>\n",
              "      <td>134.0</td>\n",
              "      <td>0.0</td>\n",
              "      <td>0.0</td>\n",
              "      <td>73.0</td>\n",
              "      <td>0.0</td>\n",
              "    </tr>\n",
              "    <tr>\n",
              "      <th>50%</th>\n",
              "      <td>60.0</td>\n",
              "      <td>0.0</td>\n",
              "      <td>249.0</td>\n",
              "      <td>0.0</td>\n",
              "      <td>38.0</td>\n",
              "      <td>0.0</td>\n",
              "      <td>262000.0</td>\n",
              "      <td>1.1</td>\n",
              "      <td>137.0</td>\n",
              "      <td>1.0</td>\n",
              "      <td>0.0</td>\n",
              "      <td>113.0</td>\n",
              "      <td>0.0</td>\n",
              "    </tr>\n",
              "    <tr>\n",
              "      <th>75%</th>\n",
              "      <td>70.0</td>\n",
              "      <td>1.0</td>\n",
              "      <td>582.0</td>\n",
              "      <td>1.0</td>\n",
              "      <td>45.0</td>\n",
              "      <td>1.0</td>\n",
              "      <td>304000.0</td>\n",
              "      <td>1.4</td>\n",
              "      <td>140.0</td>\n",
              "      <td>1.0</td>\n",
              "      <td>1.0</td>\n",
              "      <td>205.0</td>\n",
              "      <td>1.0</td>\n",
              "    </tr>\n",
              "    <tr>\n",
              "      <th>max</th>\n",
              "      <td>95.0</td>\n",
              "      <td>1.0</td>\n",
              "      <td>7861.0</td>\n",
              "      <td>1.0</td>\n",
              "      <td>80.0</td>\n",
              "      <td>1.0</td>\n",
              "      <td>850000.0</td>\n",
              "      <td>9.4</td>\n",
              "      <td>148.0</td>\n",
              "      <td>1.0</td>\n",
              "      <td>1.0</td>\n",
              "      <td>285.0</td>\n",
              "      <td>1.0</td>\n",
              "    </tr>\n",
              "  </tbody>\n",
              "</table>\n",
              "<p>8 rows × 13 columns</p>\n",
              "</div>[8 rows x 13 columns in total]"
            ]
          },
          "metadata": {},
          "execution_count": 9
        }
      ]
    },
    {
      "cell_type": "markdown",
      "metadata": {
        "id": "4e004b19"
      },
      "source": [
        "The dataframe `df` contains clinical records for heart failure patients. Here is a summary of the columns:\n",
        "\n",
        "*   **age**: Age of the patient in years.\n",
        "*   **anaemia**: Whether the patient has anaemia (0 = no, 1 = yes).\n",
        "*   **creatinine_phosphokinase**: Level of the CPK enzyme in the blood (mcg/L).\n",
        "*   **diabetes**: Whether the patient has diabetes (0 = no, 1 = yes).\n",
        "*   **ejection_fraction**: Percentage of blood leaving the heart at each contraction.\n",
        "*   **high_blood_pressure**: Whether the patient has high blood pressure (0 = no, 1 = yes).\n",
        "*   **platelets**: Platelets in the blood (kiloplatelets/mL).\n",
        "*   **serum_creatinine**: Level of serum creatinine in the blood (mg/dL).\n",
        "*   **serum_sodium**: Level of serum sodium in the blood (mEq/L).\n",
        "*   **sex**: Sex of the patient (0 = female, 1 = male).\n",
        "*   **smoking**: Whether the patient is a smoker (0 = no, 1 = yes).\n",
        "*   **time**: Follow-up period in days.\n",
        "*   **DEATH_EVENT**: Whether the patient died during the follow-up period (0 = no, 1 = yes).\n",
        "\n",
        "Based on the output of `df.info()`, there are **no missing values** in this dataset, as each column has 299 non-null entries, which matches the total number of rows."
      ]
    },
    {
      "cell_type": "markdown",
      "source": [
        "**Prompt 2** - Understand patient population\n",
        "\n",
        "\"visualize age distribution of the pateints in the study, create a bar chart showing breakdown of patients by gender\"\n"
      ],
      "metadata": {
        "id": "Gr2zMOyIb3Ol"
      }
    },
    {
      "cell_type": "code",
      "metadata": {
        "colab": {
          "base_uri": "https://localhost:8080/",
          "height": 599
        },
        "id": "b2b09963",
        "executionInfo": {
          "status": "ok",
          "timestamp": 1755191398884,
          "user_tz": 240,
          "elapsed": 14281,
          "user": {
            "displayName": "",
            "userId": ""
          }
        },
        "outputId": "f8e2d74a-ca3d-44ca-e8a9-8a48151c5049"
      },
      "source": [
        "import matplotlib.pyplot as plt\n",
        "import seaborn as sns\n",
        "\n",
        "plt.figure(figsize=(10, 6))\n",
        "sns.histplot(df['age'], bins=20, kde=True)\n",
        "plt.title('Age Distribution of Patients')\n",
        "plt.xlabel('Age')\n",
        "plt.ylabel('Number of Patients')\n",
        "plt.show()"
      ],
      "execution_count": 12,
      "outputs": [
        {
          "output_type": "display_data",
          "data": {
            "text/plain": [
              "<IPython.core.display.HTML object>"
            ],
            "text/html": [
              "Query job 2868f18c-68ea-4246-bfef-168af49da49c is DONE. 31.1 kB processed. <a target=\"_blank\" href=\"https://console.cloud.google.com/bigquery?project=cat-looker-core-argolis-demo&j=bq:US:2868f18c-68ea-4246-bfef-168af49da49c&page=queryresults\">Open Job</a>"
            ]
          },
          "metadata": {}
        },
        {
          "output_type": "display_data",
          "data": {
            "text/plain": [
              "<IPython.core.display.HTML object>"
            ],
            "text/html": [
              "Query job 37fae701-6230-450a-853b-55fdc0cc184a is DONE. 31.1 kB processed. <a target=\"_blank\" href=\"https://console.cloud.google.com/bigquery?project=cat-looker-core-argolis-demo&j=bq:US:37fae701-6230-450a-853b-55fdc0cc184a&page=queryresults\">Open Job</a>"
            ]
          },
          "metadata": {}
        },
        {
          "output_type": "display_data",
          "data": {
            "text/plain": [
              "<Figure size 1000x600 with 1 Axes>"
            ],
            "image/png": "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\n"
          },
          "metadata": {}
        }
      ]
    },
    {
      "cell_type": "code",
      "metadata": {
        "colab": {
          "base_uri": "https://localhost:8080/",
          "height": 504
        },
        "id": "bf4d7088",
        "executionInfo": {
          "status": "ok",
          "timestamp": 1755191545377,
          "user_tz": 240,
          "elapsed": 6789,
          "user": {
            "displayName": "",
            "userId": ""
          }
        },
        "outputId": "3c4a1456-caba-49af-96d5-2da756dc48df"
      },
      "source": [
        "plt.figure(figsize=(8, 5))\n",
        "# Map numeric sex values to string labels for clarity\n",
        "sex_counts = df['sex'].map({0: 'Female', 1: 'Male'}).value_counts()\n",
        "\n",
        "# Convert the BigQuery-backed Series to a pandas Series before plotting\n",
        "sex_counts_pd = sex_counts.to_pandas()\n",
        "\n",
        "sns.barplot(x=sex_counts_pd.index, y=sex_counts_pd.values)\n",
        "plt.title('Patient Breakdown by Gender')\n",
        "plt.xlabel('Gender')\n",
        "plt.ylabel('Number of Patients')\n",
        "plt.show()"
      ],
      "execution_count": 15,
      "outputs": [
        {
          "output_type": "display_data",
          "data": {
            "text/plain": [
              "<IPython.core.display.HTML object>"
            ],
            "text/html": [
              "Query job 62db5838-47de-4b1e-9057-81c8507efe81 is DONE. 2.4 kB processed. <a target=\"_blank\" href=\"https://console.cloud.google.com/bigquery?project=cat-looker-core-argolis-demo&j=bq:US:62db5838-47de-4b1e-9057-81c8507efe81&page=queryresults\">Open Job</a>"
            ]
          },
          "metadata": {}
        },
        {
          "output_type": "display_data",
          "data": {
            "text/plain": [
              "<Figure size 800x500 with 1 Axes>"
            ],
            "image/png": "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\n"
          },
          "metadata": {}
        }
      ]
    },
    {
      "cell_type": "markdown",
      "source": [
        "**Prompt 3** Analyze clincal endpoints: the most critical part of clinical trial analysis is understanding the treatment effect. The DEATH_EVENT column is our primary endpoint here (1 = patient died, 0 = patient survived). The agent will generate or a chart that shows death events for each group and performan statistical tests to check for significance\n",
        "\n",
        "\"Analyze the relationship between the treatment group and the DEATH_EVENT. Is there a significant difference in outcomes between the groups? Create a visualization to compare.\""
      ],
      "metadata": {
        "id": "_XNeK47Ekdsr"
      }
    },
    {
      "cell_type": "code",
      "metadata": {
        "colab": {
          "base_uri": "https://localhost:8080/",
          "height": 178
        },
        "id": "329f4c95",
        "executionInfo": {
          "status": "ok",
          "timestamp": 1755194147181,
          "user_tz": 240,
          "elapsed": 5191,
          "user": {
            "displayName": "",
            "userId": ""
          }
        },
        "outputId": "92091177-fea6-4d89-b630-14f95dd02d28"
      },
      "source": [
        "\n",
        "\n",
        "# Since bigframes.pandas does not have a crosstab function,\n",
        "# we'll convert the relevant columns to a pandas DataFrame to create the contingency table.\n",
        "df_pd = df[['treatment', 'DEATH_EVENT']].to_pandas()\n",
        "treatment_outcome = pd.crosstab(df_pd['treatment'], df_pd['DEATH_EVENT'])\n",
        "\n",
        "print(\"Contingency Table: Treatment vs. Death Event\")\n",
        "display(treatment_outcome)"
      ],
      "execution_count": 32,
      "outputs": [
        {
          "output_type": "display_data",
          "data": {
            "text/plain": [
              "<IPython.core.display.HTML object>"
            ],
            "text/html": [
              "Query job d41f4893-0a0c-4ccf-a5eb-3ba42b7bdaeb is DONE. 44.9 kB processed. <a target=\"_blank\" href=\"https://console.cloud.google.com/bigquery?project=cat-looker-core-argolis-demo&j=bq:US:d41f4893-0a0c-4ccf-a5eb-3ba42b7bdaeb&page=queryresults\">Open Job</a>"
            ]
          },
          "metadata": {}
        },
        {
          "output_type": "stream",
          "name": "stdout",
          "text": [
            "Contingency Table: Treatment vs. Death Event\n"
          ]
        },
        {
          "output_type": "display_data",
          "data": {
            "text/plain": [
              "DEATH_EVENT    0   1\n",
              "treatment           \n",
              "0             99  54\n",
              "1            117  29"
            ],
            "text/html": [
              "\n",
              "  <div id=\"df-45262672-3e5b-4ef7-9e4e-10fdeca3bc11\" class=\"colab-df-container\">\n",
              "    <div>\n",
              "<style scoped>\n",
              "    .dataframe tbody tr th:only-of-type {\n",
              "        vertical-align: middle;\n",
              "    }\n",
              "\n",
              "    .dataframe tbody tr th {\n",
              "        vertical-align: top;\n",
              "    }\n",
              "\n",
              "    .dataframe thead th {\n",
              "        text-align: right;\n",
              "    }\n",
              "</style>\n",
              "<table border=\"1\" class=\"dataframe\">\n",
              "  <thead>\n",
              "    <tr style=\"text-align: right;\">\n",
              "      <th>DEATH_EVENT</th>\n",
              "      <th>0</th>\n",
              "      <th>1</th>\n",
              "    </tr>\n",
              "    <tr>\n",
              "      <th>treatment</th>\n",
              "      <th></th>\n",
              "      <th></th>\n",
              "    </tr>\n",
              "  </thead>\n",
              "  <tbody>\n",
              "    <tr>\n",
              "      <th>0</th>\n",
              "      <td>99</td>\n",
              "      <td>54</td>\n",
              "    </tr>\n",
              "    <tr>\n",
              "      <th>1</th>\n",
              "      <td>117</td>\n",
              "      <td>29</td>\n",
              "    </tr>\n",
              "  </tbody>\n",
              "</table>\n",
              "</div>\n",
              "    <div class=\"colab-df-buttons\">\n",
              "\n",
              "  <div class=\"colab-df-container\">\n",
              "    <button class=\"colab-df-convert\" onclick=\"convertToInteractive('df-45262672-3e5b-4ef7-9e4e-10fdeca3bc11')\"\n",
              "            title=\"Convert this dataframe to an interactive table.\"\n",
              "            style=\"display:none;\">\n",
              "\n",
              "  <svg xmlns=\"http://www.w3.org/2000/svg\" height=\"24px\" viewBox=\"0 -960 960 960\">\n",
              "    <path d=\"M120-120v-720h720v720H120Zm60-500h600v-160H180v160Zm220 220h160v-160H400v160Zm0 220h160v-160H400v160ZM180-400h160v-160H180v160Zm440 0h160v-160H620v160ZM180-180h160v-160H180v160Zm440 0h160v-160H620v160Z\"/>\n",
              "  </svg>\n",
              "    </button>\n",
              "\n",
              "  <style>\n",
              "    .colab-df-container {\n",
              "      display:flex;\n",
              "      gap: 12px;\n",
              "    }\n",
              "\n",
              "    .colab-df-convert {\n",
              "      background-color: #E8F0FE;\n",
              "      border: none;\n",
              "      border-radius: 50%;\n",
              "      cursor: pointer;\n",
              "      display: none;\n",
              "      fill: #1967D2;\n",
              "      height: 32px;\n",
              "      padding: 0 0 0 0;\n",
              "      width: 32px;\n",
              "    }\n",
              "\n",
              "    .colab-df-convert:hover {\n",
              "      background-color: #E2EBFA;\n",
              "      box-shadow: 0px 1px 2px rgba(60, 64, 67, 0.3), 0px 1px 3px 1px rgba(60, 64, 67, 0.15);\n",
              "      fill: #174EA6;\n",
              "    }\n",
              "\n",
              "    .colab-df-buttons div {\n",
              "      margin-bottom: 4px;\n",
              "    }\n",
              "\n",
              "    [theme=dark] .colab-df-convert {\n",
              "      background-color: #3B4455;\n",
              "      fill: #D2E3FC;\n",
              "    }\n",
              "\n",
              "    [theme=dark] .colab-df-convert:hover {\n",
              "      background-color: #434B5C;\n",
              "      box-shadow: 0px 1px 3px 1px rgba(0, 0, 0, 0.15);\n",
              "      filter: drop-shadow(0px 1px 2px rgba(0, 0, 0, 0.3));\n",
              "      fill: #FFFFFF;\n",
              "    }\n",
              "  </style>\n",
              "\n",
              "    <script>\n",
              "      const buttonEl =\n",
              "        document.querySelector('#df-45262672-3e5b-4ef7-9e4e-10fdeca3bc11 button.colab-df-convert');\n",
              "      buttonEl.style.display =\n",
              "        google.colab.kernel.accessAllowed ? 'block' : 'none';\n",
              "\n",
              "      async function convertToInteractive(key) {\n",
              "        const element = document.querySelector('#df-45262672-3e5b-4ef7-9e4e-10fdeca3bc11');\n",
              "        const dataTable =\n",
              "          await google.colab.kernel.invokeFunction('convertToInteractive',\n",
              "                                                    [key], {});\n",
              "        if (!dataTable) return;\n",
              "\n",
              "        const docLinkHtml = 'Like what you see? Visit the ' +\n",
              "          '<a target=\"_blank\" href=https://colab.research.google.com/notebooks/data_table.ipynb>data table notebook</a>'\n",
              "          + ' to learn more about interactive tables.';\n",
              "        element.innerHTML = '';\n",
              "        dataTable['output_type'] = 'display_data';\n",
              "        await google.colab.output.renderOutput(dataTable, element);\n",
              "        const docLink = document.createElement('div');\n",
              "        docLink.innerHTML = docLinkHtml;\n",
              "        element.appendChild(docLink);\n",
              "      }\n",
              "    </script>\n",
              "  </div>\n",
              "\n",
              "\n",
              "<div id=\"df-99d31091-f35b-4e8f-a37d-76258d4b7c60\">\n",
              "  <button class=\"colab-df-quickchart\" onclick=\"quickchart('df-99d31091-f35b-4e8f-a37d-76258d4b7c60')\"\n",
              "            title=\"Suggest charts\"\n",
              "            style=\"display:none;\">\n",
              "\n",
              "<svg xmlns=\"http://www.w3.org/2000/svg\" height=\"24px\"viewBox=\"0 0 24 24\"\n",
              "     width=\"24px\">\n",
              "    <g>\n",
              "        <path d=\"M19 3H5c-1.1 0-2 .9-2 2v14c0 1.1.9 2 2 2h14c1.1 0 2-.9 2-2V5c0-1.1-.9-2-2-2zM9 17H7v-7h2v7zm4 0h-2V7h2v10zm4 0h-2v-4h2v4z\"/>\n",
              "    </g>\n",
              "</svg>\n",
              "  </button>\n",
              "\n",
              "<style>\n",
              "  .colab-df-quickchart {\n",
              "      --bg-color: #E8F0FE;\n",
              "      --fill-color: #1967D2;\n",
              "      --hover-bg-color: #E2EBFA;\n",
              "      --hover-fill-color: #174EA6;\n",
              "      --disabled-fill-color: #AAA;\n",
              "      --disabled-bg-color: #DDD;\n",
              "  }\n",
              "\n",
              "  [theme=dark] .colab-df-quickchart {\n",
              "      --bg-color: #3B4455;\n",
              "      --fill-color: #D2E3FC;\n",
              "      --hover-bg-color: #434B5C;\n",
              "      --hover-fill-color: #FFFFFF;\n",
              "      --disabled-bg-color: #3B4455;\n",
              "      --disabled-fill-color: #666;\n",
              "  }\n",
              "\n",
              "  .colab-df-quickchart {\n",
              "    background-color: var(--bg-color);\n",
              "    border: none;\n",
              "    border-radius: 50%;\n",
              "    cursor: pointer;\n",
              "    display: none;\n",
              "    fill: var(--fill-color);\n",
              "    height: 32px;\n",
              "    padding: 0;\n",
              "    width: 32px;\n",
              "  }\n",
              "\n",
              "  .colab-df-quickchart:hover {\n",
              "    background-color: var(--hover-bg-color);\n",
              "    box-shadow: 0 1px 2px rgba(60, 64, 67, 0.3), 0 1px 3px 1px rgba(60, 64, 67, 0.15);\n",
              "    fill: var(--button-hover-fill-color);\n",
              "  }\n",
              "\n",
              "  .colab-df-quickchart-complete:disabled,\n",
              "  .colab-df-quickchart-complete:disabled:hover {\n",
              "    background-color: var(--disabled-bg-color);\n",
              "    fill: var(--disabled-fill-color);\n",
              "    box-shadow: none;\n",
              "  }\n",
              "\n",
              "  .colab-df-spinner {\n",
              "    border: 2px solid var(--fill-color);\n",
              "    border-color: transparent;\n",
              "    border-bottom-color: var(--fill-color);\n",
              "    animation:\n",
              "      spin 1s steps(1) infinite;\n",
              "  }\n",
              "\n",
              "  @keyframes spin {\n",
              "    0% {\n",
              "      border-color: transparent;\n",
              "      border-bottom-color: var(--fill-color);\n",
              "      border-left-color: var(--fill-color);\n",
              "    }\n",
              "    20% {\n",
              "      border-color: transparent;\n",
              "      border-left-color: var(--fill-color);\n",
              "      border-top-color: var(--fill-color);\n",
              "    }\n",
              "    30% {\n",
              "      border-color: transparent;\n",
              "      border-left-color: var(--fill-color);\n",
              "      border-top-color: var(--fill-color);\n",
              "      border-right-color: var(--fill-color);\n",
              "    }\n",
              "    40% {\n",
              "      border-color: transparent;\n",
              "      border-right-color: var(--fill-color);\n",
              "      border-top-color: var(--fill-color);\n",
              "    }\n",
              "    60% {\n",
              "      border-color: transparent;\n",
              "      border-right-color: var(--fill-color);\n",
              "    }\n",
              "    80% {\n",
              "      border-color: transparent;\n",
              "      border-right-color: var(--fill-color);\n",
              "      border-bottom-color: var(--fill-color);\n",
              "    }\n",
              "    90% {\n",
              "      border-color: transparent;\n",
              "      border-bottom-color: var(--fill-color);\n",
              "    }\n",
              "  }\n",
              "</style>\n",
              "\n",
              "  <script>\n",
              "    async function quickchart(key) {\n",
              "      const quickchartButtonEl =\n",
              "        document.querySelector('#' + key + ' button');\n",
              "      quickchartButtonEl.disabled = true;  // To prevent multiple clicks.\n",
              "      quickchartButtonEl.classList.add('colab-df-spinner');\n",
              "      try {\n",
              "        const charts = await google.colab.kernel.invokeFunction(\n",
              "            'suggestCharts', [key], {});\n",
              "      } catch (error) {\n",
              "        console.error('Error during call to suggestCharts:', error);\n",
              "      }\n",
              "      quickchartButtonEl.classList.remove('colab-df-spinner');\n",
              "      quickchartButtonEl.classList.add('colab-df-quickchart-complete');\n",
              "    }\n",
              "    (() => {\n",
              "      let quickchartButtonEl =\n",
              "        document.querySelector('#df-99d31091-f35b-4e8f-a37d-76258d4b7c60 button');\n",
              "      quickchartButtonEl.style.display =\n",
              "        google.colab.kernel.accessAllowed ? 'block' : 'none';\n",
              "    })();\n",
              "  </script>\n",
              "</div>\n",
              "\n",
              "  <div id=\"id_675136f6-9b57-4ce4-a97e-c7839be4c77c\">\n",
              "    <style>\n",
              "      .colab-df-generate {\n",
              "        background-color: #E8F0FE;\n",
              "        border: none;\n",
              "        border-radius: 50%;\n",
              "        cursor: pointer;\n",
              "        display: none;\n",
              "        fill: #1967D2;\n",
              "        height: 32px;\n",
              "        padding: 0 0 0 0;\n",
              "        width: 32px;\n",
              "      }\n",
              "\n",
              "      .colab-df-generate:hover {\n",
              "        background-color: #E2EBFA;\n",
              "        box-shadow: 0px 1px 2px rgba(60, 64, 67, 0.3), 0px 1px 3px 1px rgba(60, 64, 67, 0.15);\n",
              "        fill: #174EA6;\n",
              "      }\n",
              "\n",
              "      [theme=dark] .colab-df-generate {\n",
              "        background-color: #3B4455;\n",
              "        fill: #D2E3FC;\n",
              "      }\n",
              "\n",
              "      [theme=dark] .colab-df-generate:hover {\n",
              "        background-color: #434B5C;\n",
              "        box-shadow: 0px 1px 3px 1px rgba(0, 0, 0, 0.15);\n",
              "        filter: drop-shadow(0px 1px 2px rgba(0, 0, 0, 0.3));\n",
              "        fill: #FFFFFF;\n",
              "      }\n",
              "    </style>\n",
              "    <button class=\"colab-df-generate\" onclick=\"generateWithVariable('treatment_outcome')\"\n",
              "            title=\"Generate code using this dataframe.\"\n",
              "            style=\"display:none;\">\n",
              "\n",
              "  <svg xmlns=\"http://www.w3.org/2000/svg\" height=\"24px\"viewBox=\"0 0 24 24\"\n",
              "       width=\"24px\">\n",
              "    <path d=\"M7,19H8.4L18.45,9,17,7.55,7,17.6ZM5,21V16.75L18.45,3.32a2,2,0,0,1,2.83,0l1.4,1.43a1.91,1.91,0,0,1,.58,1.4,1.91,1.91,0,0,1-.58,1.4L9.25,21ZM18.45,9,17,7.55Zm-12,3A5.31,5.31,0,0,0,4.9,8.1,5.31,5.31,0,0,0,1,6.5,5.31,5.31,0,0,0,4.9,4.9,5.31,5.31,0,0,0,6.5,1,5.31,5.31,0,0,0,8.1,4.9,5.31,5.31,0,0,0,12,6.5,5.46,5.46,0,0,0,6.5,12Z\"/>\n",
              "  </svg>\n",
              "    </button>\n",
              "    <script>\n",
              "      (() => {\n",
              "      const buttonEl =\n",
              "        document.querySelector('#id_675136f6-9b57-4ce4-a97e-c7839be4c77c button.colab-df-generate');\n",
              "      buttonEl.style.display =\n",
              "        google.colab.kernel.accessAllowed ? 'block' : 'none';\n",
              "\n",
              "      buttonEl.onclick = () => {\n",
              "        google.colab.notebook.generateWithVariable('treatment_outcome');\n",
              "      }\n",
              "      })();\n",
              "    </script>\n",
              "  </div>\n",
              "\n",
              "    </div>\n",
              "  </div>\n"
            ],
            "application/vnd.google.colaboratory.intrinsic+json": {
              "type": "dataframe",
              "variable_name": "treatment_outcome",
              "summary": "{\n  \"name\": \"treatment_outcome\",\n  \"rows\": 2,\n  \"fields\": [\n    {\n      \"column\": \"treatment\",\n      \"properties\": {\n        \"dtype\": \"Int64\",\n        \"num_unique_values\": 2,\n        \"samples\": [\n          1,\n          0\n        ],\n        \"semantic_type\": \"\",\n        \"description\": \"\"\n      }\n    },\n    {\n      \"column\": 0,\n      \"properties\": {\n        \"dtype\": \"number\",\n        \"std\": 12,\n        \"min\": 99,\n        \"max\": 117,\n        \"num_unique_values\": 2,\n        \"samples\": [\n          117,\n          99\n        ],\n        \"semantic_type\": \"\",\n        \"description\": \"\"\n      }\n    },\n    {\n      \"column\": 1,\n      \"properties\": {\n        \"dtype\": \"number\",\n        \"std\": 17,\n        \"min\": 29,\n        \"max\": 54,\n        \"num_unique_values\": 2,\n        \"samples\": [\n          29,\n          54\n        ],\n        \"semantic_type\": \"\",\n        \"description\": \"\"\n      }\n    }\n  ]\n}"
            }
          },
          "metadata": {}
        }
      ]
    },
    {
      "cell_type": "code",
      "metadata": {
        "colab": {
          "base_uri": "https://localhost:8080/",
          "height": 607
        },
        "id": "23dab6c7",
        "executionInfo": {
          "status": "ok",
          "timestamp": 1755194148440,
          "user_tz": 240,
          "elapsed": 763,
          "user": {
            "displayName": "",
            "userId": ""
          }
        },
        "outputId": "d948195c-a156-4094-a194-3212eb170224"
      },
      "source": [
        "import matplotlib.pyplot as plt\n",
        "\n",
        "# 'treatment_outcome' is now a pandas DataFrame, so we can plot it directly.\n",
        "ax = treatment_outcome.plot(kind='bar', stacked=True, figsize=(10, 7), color=['skyblue', 'salmon'])\n",
        "\n",
        "# Add titles and labels for clarity\n",
        "plt.title('Outcome by Treatment Group', fontsize=16)\n",
        "plt.xlabel('Treatment Group', fontsize=12)\n",
        "plt.ylabel('Number of Patients', fontsize=12)\n",
        "plt.xticks(ticks=[0, 1], labels=['Control (Group 0)', 'Treatment (Group 1)'], rotation=0)\n",
        "plt.legend(title='Outcome', labels=['Survived', 'Died'])\n",
        "\n",
        "# Add annotations to the bars\n",
        "for c in ax.containers:\n",
        "    labels = [int(v.get_height()) for v in c]\n",
        "    ax.bar_label(c, label_type='center', labels=labels, color='black', weight='bold')\n",
        "\n",
        "plt.tight_layout()\n",
        "plt.show()"
      ],
      "execution_count": 33,
      "outputs": [
        {
          "output_type": "display_data",
          "data": {
            "text/plain": [
              "<Figure size 1000x700 with 1 Axes>"
            ],
            "image/png": "iVBORw0KGgoAAAANSUhEUgAAA90AAAKyCAYAAADIG729AAAAOnRFWHRTb2Z0d2FyZQBNYXRwbG90bGliIHZlcnNpb24zLjEwLjAsIGh0dHBzOi8vbWF0cGxvdGxpYi5vcmcvlHJYcgAAAAlwSFlzAAAPYQAAD2EBqD+naQAAfMZJREFUeJzs3Xt8z/X///H7e3ZkttlmmzEM5ZTj5BA5CyWEosRIKedQRIQ+legkIp2cilI5lEJK5nw+53zMcSZsM2xme/7+6Lv3z7ttzOxlG7fr5fK+8Ho+n6/n+/F+7729dt/rZDPGGAEAAAAAgCznlN0FAAAAAABwtyJ0AwAAAABgEUI3AAAAAAAWIXQDAAAAAGARQjcAAAAAABYhdAMAAAAAYBFCNwAAAAAAFiF0AwAAAABgEUI3AAAAAAAWIXQDQC5gjNHs2bPVpk0bhYSEyN3dXQUKFFDlypU1aNAgHTt2LLtLhKRp06bJZrOpS5cu2VaDzWa75Uf9+vWzrV7cvgsXLui9995TkyZNFBwcLDc3N+XLl0/FixdXy5YtNX78eEVGRmZ3mQBwz3LO7gIAADd26tQpPfHEE9qwYYNsNpvCwsJUu3ZtXb58WWvXrtV7772n8ePH64MPPlCvXr2y7HkjIiLUoEED1atXTxEREVk2L6wVHh6eqi0yMlK//fZbuv1lypSxvK6MmjZtmrp27arw8HBNmzYtu8uxTFZ9f82cOVM9evTQxYsX5eLiorCwMNWpU0fSvz87lixZogULFmjQoEGaMWOGnnrqqSx6BQCAjCJ0A0AOduHCBT388MM6fPiwqlSpoq+//lrly5e391+7dk0ff/yxBg8erN69eyspKUl9+/bNxoqR3dIKqhEREfbQfTcH2XvNp59+qp49e8pms2nQoEF67bXXVKBAAYcxV65c0bfffqvRo0fr8OHD2VQpANzbOLwcAHKw3r176/DhwwoNDdWff/7pELglydnZWQMHDtTHH38sSXrllVe0Z8+e7CgVwB20Z88e9evXT5L08ccfa8yYMakCtyR5eHjoueee044dO/TYY4/d6TIBACJ0A0COdfjwYX333XeSpPfff18+Pj7pju3Zs6cqVaqkxMREjR071qGvS5custls6e7hTOs85Pr166tBgwaSpOXLlzuc/1u8ePFUc/z555968sknVaRIEbm5ualgwYJ68MEHNWLECJ07dy7V+N9++00tWrRQQECAXF1dFRwcrPbt22vTpk1p1li/fn3ZbDZFRERo3bp1euyxx+Tn56f8+fOrXr16WrlypX3s4sWL1ahRIxUoUECenp5q0qSJtmzZku57d+HCBY0YMUKVK1dW/vz5lTdvXlWoUEFvvfWWLl++nO56N3Pu3Dn16tVLRYsWlZubm4oVK6b+/fvrwoULDuOmTp0qm82mpk2bpjvXqVOn5OLiIg8PjzTfz9sxcuRI2Ww2jRw5UseOHVO3bt0UEhIiFxeXVOem//jjj2rWrJkKFiwoV1dXFS5cWM8++6x2796d5tx//PGH+vTpo8qVK8vf319ubm4qUqSI2rdvr40bN6YaX7x4cXXt2lWSNH369HTPO89Jn4fr37+zZ8+qV69eCgkJkaurq0JCQtSnTx9FR0c7rHOr319pGTNmjBITE1W1alX16dPnpuM9PDxUoUIFh7aIiAj7e3v58mW98cYbKlu2rPLmzZuqju+++06NGjWSr6+v/fP83HPPaf/+/Wk+X8rrSc/1X8P02pcvX65HHnlEvr6+yps3r6pXr66vv/76pq8VAHIaDi8HgBxqwYIFSk5Olo+Pj1q2bHnDsTabTZ06ddL27du1YMECGWNu+AvvzTRr1kzu7u767bffFBgYqGbNmtn7/P39Hcb27dtXEyZMkCRVrlxZDz/8sGJiYrRv3z69+eabatCggUNgGj58uN566y3ZbDY99NBDKlq0qPbs2aPvv/9ec+bM0eeff67nnnsuzbp+/fVXjRs3ThUqVFCTJk20b98+rVixQk2aNNGff/6prVu3qm/fvqpZs6YeeeQRbdu2TX/88Yfq1aunrVu3qlSpUg7z7d69W82aNdPx48dVqFAh1alTRy4uLtqwYYOGDx+uOXPmKCIiQt7e3rf0/l24cEE1atTQuXPnHELEuHHjtGjRIq1cuVIFCxaUJD3zzDMaPHiwfv/9d+3fv1/3339/qvk+++wzXbt2TZ06dZKfn98t1ZJRBw4cUJUqVeTq6qratWvLGGP/Wl+7dk0dO3bU999/Lzc3N4WFhalw4cLav3+/Zs6cqblz52ru3LkOnxNJeumll3T8+HGVL19etWvXlrOzs/bu3avvv/9ec+fO1Xfffae2bdvax7dr107r1q3T6tWrVbJkSfu5yVLa553npM/D8ePHVbVqVSUmJqp27dqKj4/X6tWr9cknn2j9+vVavXq1XFxcJN3a91dajDFasGCBJOnZZ5+96fibiY+PV/369bV7927VrVtXlSpVsv9xxxijLl26aMaMGXJ2dlbdunUVEBCgLVu2aOrUqZo9e7bmzJmT6mt/u+bNm6dPPvlEZcqUUdOmTXXq1CmtWrVKnTt31rZt2/TBBx9k6fMBgKUMACBH6tSpk5FkGjRokKHxy5cvN5KMJHP48GF7e3h4uJFkpk6dmuZ6U6dONZJMeHi4Q/uyZcuMJFOvXr10n3P8+PFGkvHz8zN//vlnqv7169ebY8eO2ZcXLVpkJBl3d3ezZMkSh7FffvmlkWRcXFzMX3/95dBXr149I8nYbDbz9ddfO/QNGDDASDKlS5c2np6e5o8//rD3Xbt2zbRt29ZIMs8//7zDepcvXzYlS5Y0ksywYcNMQkKCve/SpUvm6aefNpJM165d0339/5XyXkoyNWvWNOfOnbP3XbhwwTz00ENGkunQoYPDeq+//rqRZPr27ZtqzqtXr5qgoCAjyWzevDnDtVwv5WuZ1mZ/xIgR9r5nn33WxMfHpxozdOhQI8nUqFHD4bNljDE//PCDyZMnjylQoIC5cOGCQ9+8efPM+fPnU803b9484+zsbPz8/Mzly5cd+tL7PF4vJ30ern//unTp4vD+HTt2zBQuXNhIMrNmzXJYLyPfX+k5dOiQ/TlXrlx5y+v/twZJpmLFiub06dOpxnz66adGkvH39zdbt261tycnJ9tfu4+Pj4mKinJYL73PW4qUr+GyZcvSbJdk3nnnHYe+iIgI4+HhYSSZxYsX3/oLBoBsQugGgByqWbNmaQa09Ozdu9f+y+r69evt7VaF7sTERFOwYEEjycyZMydDNTZq1MhIMgMGDEizv0WLFkaSeeGFFxzaU34Rf/LJJ1Otc+7cOfvrfvXVV1P1b9682UgyoaGhDu0pYaJFixZp1nLx4kUTEBBgnJ2d0wyOabk+dF8fUFLs2LHD2Gw24+TkZI4fP25vP3nypHFxcTHe3t4mLi7OYZ1vv/3WSDK1atXKUA1pyUjo9vX1NdHR0an6z507Zzw8PIy7u7s5ceJEmvP37NnTSDITJkzIcE0pIfbXX391aL+V0J0TPg8p71+RIkXMpUuXUq337rvvGknmueeec2i/ndC9fv16+2vcu3dvmmNGjhxpwsPDHR4DBw5MswZJZsWKFWnOk/KHiPHjx6fqS05ONhUrVjSSzNtvv+3Qd7uhu0qVKmmuN3DgQCPJNGnSJN25ASCn4ZxuALhLGGPu6PNt3rxZZ8+elb+/v5544ombjr927ZpWr14tSenex7pbt26SpGXLlqXZ/+ijj6Zq8/X1tR9ynVb/fffdJ+nf86Kv9+uvv0qS2rdvn+ZzeXp6qlq1arp27Vqa5x/fSKVKlVS5cuVU7RUqVFCVKlWUnJysFStW2NuDg4PVrl07xcTEpDpndeLEiZL+vaielRo3bpzmYdPLli3TlStXVLt2bRUuXDjNdVNOH1izZk2qvlOnTumLL77QwIED9fzzz6tLly7q0qWLdu3aJUnat29fpmvOSZ+HRo0aKW/evKnay5YtK0k6efLkjV5KlluwYIGmT5/u8Pjxxx/THBsQEKCHH344VfuJEyd06NAhSWnfas5ms9nPwU/vezazOnfunGZ7Sh2rVq1SUlJSlj4nAFiFc7oBIIdKObfzzJkzGRofFRVl/3/K+cJW+vvvvyVJpUuXztD54+fOnVN8fLwkKTQ0NM0xJUuWlJR+QClatGia7Z6enjp37lya/fnz55ckJSQkOLSn3D6pU6dO6tSp0w1rP3v27A37/yu915fSt2XLFp04ccKhvW/fvvr22281ceJEvfTSS5KkHTt2aNWqVQoMDFS7du1uqYZbld4FvFLep6VLl9706/zf92nUqFF6++23lZiYmO46sbGxt1bodXLS5yG9Wry8vCTJ/tnPCtef93327FmVLl061ZjrL0q4atWqNEN1ivS+9infh35+fvbX8V83+57NrPS+h1Lar1y5onPnzikgICBLnxcArEDoBoAcKiwsTN988422bNmia9euydn5xj+yN2zYIOnfX5AzegVkSUpOTr6dMu8oJ6cbH6B1s/7rpbzuZs2aKTAw8IZjixUrluF5M+q/RybUrFlT1atX14YNG7R8+XLVq1fPvpe7e/fucnV1zfIarufh4ZFme8r7VKpUKdWuXfuGc1x/sbO5c+dq5MiR8vT01CeffKKGDRsqODhYHh4estlsGjp0qEaPHn1bR2jkpM/DrTzX7SpevLh8fX11/vx5bdq0yeGCc5mR3tfeSlnxc+dOH90DAJlF6AaAHOrxxx/XwIEDFRMTo59++snhKs//ZYyxH5bcokULhz2SKWHt4sWLaa6bssf6VqXs2du/f3+Grpbu5+cnNzc3JSQk6PDhw6pYsWKqMSl7G9M7jDkrhYSEaO/everWrVuW70U+cuRIun1Hjx6VJBUpUiRVX9++ffXss8/qk08+UaVKlTRz5kw5Ozvb93xnh5CQEEn/HtGQ3m3n0vL9999Lkt5++2117949Vf+BAweypL6sYuXnIas5OTnpscce09dff61vvvlGL7/8siXPk/J9eO7cOcXGxqa5tzu971kXFxclJibq4sWL9qMLrneznzvpfQ+lfP+4u7tbdiV/AMhqnNMNADlUyZIl9dRTT0mSXn311VT3+r3epEmTtGPHDjk7O+vVV1916Ev5ZXjPnj2p1jPGaNGiRWnOmRLWr127lmZ/tWrV5O/vr7Nnz2r+/Pk3ezlydna275FLL7xNmTJFkuz3MLZS8+bNJf3/cJiVduzYoR07dqRq37Vrl7Zs2SInJyfVrVs3Vf9TTz2lQoUKaf78+Xr77bd16dIlPfHEEwoODs7yGjOqUaNGcnV1VUREhMMpDDdz/vx5SWnvFY6KitLvv/+e5no3+9xZxcrPQ1pu93W+9tprcnZ21ubNmzVp0qSsLM2uSJEi9sPH0/qeNcbY2//7PXujnzs7duzQ8ePHb/jc33zzTZrtM2bMkCTVqVPnpkf/AEBOQegGgBxs4sSJKl68uI4cOaKGDRvaLz6V4tq1a/rwww/Vr18/SdKYMWNUvnx5hzGNGzeWJH399dfavXu3vT0xMVGDBw9O9yJhKXtiDxw4kOY5uc7Oznr99dcl/Xv48/UXBkuxceNGh3OXBw4cKEn69NNPtXTpUoex06ZN088//ywXFxf767FS9+7dVaxYMf3www8aPHhwmkcCREZG6osvvrjluY0x6tGjhy5cuGBvi4mJUY8ePWSMUdu2be17kK/n4uKiHj166Nq1a3r//fclWX8BtZsJDAxUnz59dOnSJT3++OPauXNnqjEJCQn6+eeftXfvXntbygXEPv/8c129etXeHhMTo/DwcMXExKT5fCmfu+s/q3eClZ+HtNzs++tmypUrp48++kjSv5+RoUOHpvmHuaSkJK1bty7Tdb7yyiuSpP/973/avn27vd0Yo7feekvbtm2Tj4+PXnjhBYf1Un7ujBo1yuH8+aNHjyo8PPymh4Zv3rxZY8eOdWhbtWqV/ZSL/v37Z/o1AcAdlz0XTQcAZNSJEydMtWrV7PclfvDBB02HDh1My5Yt7bfscnV1NePGjUt3jlatWhlJxsPDwzRp0sS0bNnSFClSxHh5eZl+/fqle4umlOctXbq06dixo+nWrZsZPHiwvT85Odm89NJL9tsDValSxXTo0ME8+uijpkSJEmneEmjYsGH211KnTh3zzDPPmKpVqxpJJk+ePOarr75KVUd6txdKUaxYMSPJHDlyJM1+pXP7or/++ssUL17cfq/hunXrmmeeeca0bt3alCtXzthsNhMYGJju+/pfKbe7atmypSlRooTx8fExTzzxhGnTpo3x9fU1ksx9991nzpw5k+4cZ86cMW5ubvZ7J2eFjNwybMSIEemun5iYaJ555hkjyTg5OZkqVaqYtm3bmvbt25vatWubfPnyGUlm0aJF9nUOHz5sfHx8jCRTuHBh07ZtW9OyZUvj7e1tChUqZJ577rk0nzchIcEEBwfbP0+dO3c23bp1M2PHjrWPyUmfh5u9fze6NdjNvr8yYtq0acbT09P+c6BWrVrmySefNM8884xp0qSJ/XPn6upqhg4dmuHaUiQnJ5tOnToZScbZ2dk0atTIPP3006Z06dL2nykLFy5Mtd71X/+iRYuatm3bmrp16xoPDw/TuHFj+z3r07tlWN++fY2Tk5MpX768efrpp029evWMk5OTkWT69et3S+8RAGQ3QjcA5AJJSUnm22+/Na1atTLBwcHG1dXVeHl5mQoVKpiBAwemGy5SxMfHm2HDhpkSJUoYFxcXExAQYJ5++mlz8ODBG94X+e+//zbPPPOMKVSokHF2djaSTLFixVKNW7RokWnVqpUJDAw0Li4upmDBgqZ69epm1KhR5ty5c2mOf/TRR42fn59xdnY2QUFB5sknn3S4v/j1rApZxhgTGxtrxo4da2rVqmV8fHyMi4uLKVSokHnwwQfNq6++atasWZPmemm5/r2MiooyL774oilSpIhxdXU1ISEhpm/fvmm+H/9Vo0YNI8l89tlnGX7uG7nd0J1i4cKFpk2bNqZw4cLGxcXF+Pj4mLJly5oOHTqYWbNmpbpP9ZEjR0zHjh1N0aJFjZubmylWrJh56aWXTGRk5A2fd+fOnfY/KqUEreuDYU76PNxO6M7o99fNnDt3zowZM8Y0bNjQBAUFGVdXV+Ph4WFCQkLMo48+aj788ENz6tSpW6rtv2bNmmXq169vf09CQkJMly5d0r1PuDHG7N6927Rp08YUKFDAuLm5mdKlS5u33nrLXL169ab36V62bJlZunSpadSokfH29jYeHh6mWrVqZtq0abf69gBAtrMZw6UfAQDIKfbv368yZcrI29tbJ0+eTPPez8Ddqn79+lq+fLmWLVtmv/87AOR2nNMNAEAO8sYbb9jPCSdwAwCQ+3HZRwAAstnPP/+sn376Sbt27dL69esVFBSkQYMGZXdZAAAgC7CnGwCAbLZlyxZNmTJFu3fvVuPGjbVkyRL5+Phkd1kAACALcE43AAAAAAAWYU83AAAAAAAWyVGhe8WKFXr88ccVHBwsm82m+fPnpxqzZ88etWzZUt7e3sqXL58efPBBHTt2zN4fHx+vXr16yc/PT56enmrbtq3OnDlzB18FAAAAAAD/ylEXUrt06ZIqVaqk5557Tm3atEnVf+jQIdWpU0fdunXTqFGj5OXlpV27dsnd3d0+pn///vr111/1ww8/yNvbW71791abNm20evXqDNeRnJysU6dOKX/+/LLZbFny2gAAAAAAdw9jjC5evKjg4GA5OaW/PzvHntNts9k0b948tW7d2t7WoUMHubi46Ouvv05znZiYGBUsWFCzZs1Su3btJEl79+5V2bJltXbtWtWsWTNDz33ixAmFhITc9msAAAAAANzdjh8/riJFiqTbn6P2dN9IcnKyfv31Vw0aNEhNmzbV1q1bFRoaqiFDhtiD+ebNm5WYmKjGjRvb1ytTpoyKFi16S6E7f/78kv5987y8vLL8tQAAAAAAcrfY2FiFhITY82N6ck3ojoqKUlxcnN5991299dZbGjNmjBYvXqw2bdpo2bJlqlevniIjI+Xq6prqNiuBgYGKjIxMd+6EhAQlJCTYly9evChJ8vLyInQDAAAAANJ1s1OSc03oTk5OliS1atVK/fv3lyRVrlxZa9as0eTJk1WvXr1Mzz169GiNGjUqS+oEAAAAACBFjrp6+Y34+/vL2dlZ5cqVc2gvW7as/erlQUFBunr1qqKjox3GnDlzRkFBQenOPWTIEMXExNgfx48fz/L6AQAAAAD3nlwTul1dXfXggw9q3759Du379+9XsWLFJElhYWFycXHR0qVL7f379u3TsWPHVKtWrXTndnNzsx9KziHlAAAAAICskqMOL4+Li9PBgwfty0eOHNG2bdvk6+urokWL6tVXX1X79u1Vt25dNWjQQIsXL9aCBQsUEREhSfL29la3bt00YMAA+fr6ysvLS3369FGtWrUyfBE1AAAAAACySo66ZVhERIQaNGiQqj08PFzTpk2TJE2ZMkWjR4/WiRMnVLp0aY0aNUqtWrWyj42Pj9fAgQP17bffKiEhQU2bNtWkSZNueHj5f8XGxsrb21sxMTHs9QYAAAAApJLR3JijQndOQegGAAAAANxIRnNjrjmnGwAAAACA3IbQDQAAAACARQjdAAAAAABYhNANAAAAAIBFCN0AAAAAAFiE0A0AAAAAgEUI3QAAAAAAWITQDQAAAACARQjdAAAAAABYhNANAAAAAIBFCN0AAAAAAFiE0A0AAAAAgEUI3QAAAAAAWITQDQAAAACARQjdAAAAAABYhNANAAAAAIBFCN0AAAAAAFiE0A0AAAAAgEUI3QAAAAAAWITQDQAAAACARZyzuwDASomjBmZ3CQAkuYz4ILtLAAAAyBbs6QYAAAAAwCKEbgAAAAAALELoBgAAAADAIoRuAAAAAAAsQugGAAAAAMAihG4AAAAAACxC6AYAAAAAwCKEbgAAAAAALELoBgAAAADAIoRuAAAAAAAsQugGAAAAAMAihG4AAAAAACxC6AYAAAAAwCKEbgAAAAAALELoBgAAAADAIoRuAAAAAAAsQugGAAAAAMAihG4AAAAAACxC6AYAAAAAwCKEbgAAAAAALELoBgAAAADAIoRuAAAAAAAsQugGAAAAAMAihG4AAAAAACxC6AYAAAAAwCLO2V0AAAAA7pzEUQOzuwQAklxGfJDdJeAOYU83AAAAAAAWIXQDAAAAAGARQjcAAAAAABYhdAMAAAAAYBFCNwAAAAAAFiF0AwAAAABgEUI3AAAAAAAWIXQDAAAAAGARQjcAAAAAABYhdAMAAAAAYBFCNwAAAAAAFiF0AwAAAABgEUI3AAAAAAAWIXQDAAAAAGARQjcAAAAAABYhdAMAAAAAYBFCNwAAAAAAFslRoXvFihV6/PHHFRwcLJvNpvnz56c79qWXXpLNZtO4ceMc2s+fP6+OHTvKy8tLPj4+6tatm+Li4qwtHAAAAACANOSo0H3p0iVVqlRJEydOvOG4efPmad26dQoODk7V17FjR+3atUu///67fvnlF61YsULdu3e3qmQAAAAAANLlnN0FXK958+Zq3rz5DcecPHlSffr00W+//abHHnvMoW/Pnj1avHixNm7cqGrVqkmSJkyYoEcffVTvv/9+miEdAAAAAACr5Kg93TeTnJysTp066dVXX1X58uVT9a9du1Y+Pj72wC1JjRs3lpOTk9avX5/uvAkJCYqNjXV4AAAAAABwu3JV6B4zZoycnZ3Vt2/fNPsjIyMVEBDg0Obs7CxfX19FRkamO+/o0aPl7e1tf4SEhGRp3QAAAACAe1OuCd2bN2/Wxx9/rGnTpslms2Xp3EOGDFFMTIz9cfz48SydHwAAAABwb8o1oXvlypWKiopS0aJF5ezsLGdnZ/39998aOHCgihcvLkkKCgpSVFSUw3rXrl3T+fPnFRQUlO7cbm5u8vLycngAAAAAAHC7ctSF1G6kU6dOaty4sUNb06ZN1alTJ3Xt2lWSVKtWLUVHR2vz5s0KCwuTJP35559KTk5WjRo17njNAAAAAIB7W44K3XFxcTp48KB9+ciRI9q2bZt8fX1VtGhR+fn5OYx3cXFRUFCQSpcuLUkqW7asmjVrphdeeEGTJ09WYmKievfurQ4dOnDlcgAAAADAHZejDi/ftGmTqlSpoipVqkiSBgwYoCpVquiNN97I8BwzZ85UmTJl1KhRIz366KOqU6eOPv/8c6tKBgAAAAAgXTlqT3f9+vVljMnw+KNHj6Zq8/X11axZs7KwKgAAAAAAMidH7ekGAAAAAOBuQugGAAAAAMAihG4AAAAAACxC6AYAAAAAwCKEbgAAAAAALELoBgAAAADAIoRuAAAAAAAsQugGAAAAAMAihG4AAAAAACxC6AYAAAAAwCKEbgAAAAAALELoBgAAAADAIoRuAAAAAAAsQugGAAAAAMAihG4AAAAAACxC6AYAAAAAwCKEbgAAAAAALELoBgAAAADAIoRuAAAAAAAs4pzdBQAAAAD4/z5as0m/7jus/ecu6PyVeAV55lXd4iEaVq+mSvj6SJKOXojR/yLWavnR4zoTd1lFfbzUtcoDGvBQNTk52bL3BQBwQOgGAAAAcpBJ67fpWEys7vf3lYezs45Ex+ib7bv1x6G/9VfvLkpISlLtL2bp7OUr8nR1UWl/X+2K+kdD/1ip0xfj9EHzBtn9EgBch9ANAAAA5CDPhVVQx4plVdTHS5L0yuIIjV+3RZFxl/TnkWOKvHhJZy9fkSStfP5plQ/w11ebd6jHgj80acM2vfxQNYV458/OlwDgOpzTDQAAAOQgQ+rWsAduSapdtLD9/2558ijZGPuyk83m8G+SMYo4cvwOVQogI9jTDQAAAORQScnJ+mrzDklSiQLealiiqE7Gxslz6SrFXU1UnS++VWgBb+0+e86+zqmLcdlVLoA0sKcbAAAAyIEuXU1Uu+9+1pJDfyvIM5/mPt1abs7OKuHro4Wd2qp+8RA52Ww6fTFOnSuXU8rl01yc+BUfyEnY0w0AAADkMJEXL6n1rPnacvqM7vMroAUdn7BfuVySaoYEa0mXJ+3L646f0pQtf0mS7vcvcKfLBXAD/BkMAAAAyEF2Rf2jh7/8VltOn1GdooW1slsHh8AtSav/Pqmk5GRJ0oUr8Rq8ZIUkyT+vhxqGFr3TJQO4AfZ0AwAAADnIU7MX6O+YWEnSxatX1XLmPHvfc1Ur6LmwCur1yx86dTFORbzy6/CFaF1OvKY8Nps+adFIeV1dsqt0AGkgdAMAAAA5yNVrSfb/b48869D3SKnikqQmJYtp3p4D2n/ugtyd86hJyWJ67eEaerh4kTtZKoAMIHQDAAAAOciB/s/fdMx7zerrvWb1rS8GwG3jnG4AAAAAACxC6AYAAAAAwCKEbgAAAAAALELoBgAAAADAIoRuAAAAAAAsQugGAAAAAMAihG4AAAAAACxC6AYAAAAAwCKEbgAAAAAALOKc3QUAuLe9uWyN3lq+Ls2+y8NflnOe//+3wYsJV/Xg5K91+EKMJOmTxxqp+4OV7kidAAAAQGYQugHkCP55PVSigLdDm83mOKbfwj/tgRsAAADIDQjdAHKE5veF6qsnmqXb/8Nf+/TN9t1qV/5+/bhr/x2sDAAAAMg8QjeAHGHengP6Ydc++bi7q2qhAI1oWFtVCgVIko7HXFSvX/5Q1UKBGtWwNqEbAAAAuQYXUgOQ7fLYbAryzKdiPt6KjLukhQeOqO6X32rr6SglJxt1nbtIiUnJmtH2Ubk48WMLAAAAuQd7ugFkqw4Vyqp3jSryzeshSVpy8KhafDNXCUlJmrxhm8oF+GnF3yf0Wcsmut+/gI5yTjcAAAByEUI3gGx1v38Bh+VHShWXn4e7zl2J1/GYi7qWnCxJGrAoQgMWRcjI2McOXByhb7bv1ornn76jNQMAAAAZxXGaALLVe6s26Fh0rH35j0N/69yVeElSMR8ve/ulxERdSkzU5cRr9raEpCSHZQAAACCnYU83gGz1+cYdGvbHKoV451deFxft++e8JCmfi4v61KyqcgF+Dlc1P3ohRvd//JUk7tMNAACAnI893QCy1eCHq6thiaJKTErWkQsxKubjpacrlNG6FzuqXIBfdpcHAAAA3Bb2dAPIVs9Xq6jnq1XM8PjiBbx1deQACysCAAAAsg57ugEAAAAAsAihGwAAAAAAixC6AQAAAACwCKEbAAAAAACLELoBAAAAALAIoRsAAAAAAIsQugEAAAAAsAihGwAAAAAAixC6AQAAAACwCKEbAAAAAACLELoBAAAAALAIoRsAAAAAAIsQugEAAAAAsEiOCt0rVqzQ448/ruDgYNlsNs2fP9/el5iYqMGDB6tChQrKly+fgoOD1blzZ506dcphjvPnz6tjx47y8vKSj4+PunXrpri4uDv8SgAAAAAAyGGh+9KlS6pUqZImTpyYqu/y5cvasmWLhg8fri1btmju3Lnat2+fWrZs6TCuY8eO2rVrl37//Xf98ssvWrFihbp3736nXgIAAAAAAHbO2V3A9Zo3b67mzZun2eft7a3ff//doe2TTz5R9erVdezYMRUtWlR79uzR4sWLtXHjRlWrVk2SNGHCBD366KN6//33FRwcbPlrAAAAAAAgRY7a032rYmJiZLPZ5OPjI0lau3atfHx87IFbkho3biwnJyetX78+m6oEAAAAANyrctSe7lsRHx+vwYMH6+mnn5aXl5ckKTIyUgEBAQ7jnJ2d5evrq8jIyHTnSkhIUEJCgn05NjbWmqIBAAAAAPeUXLmnOzExUU899ZSMMfr0009ve77Ro0fL29vb/ggJCcmCKgEAAAAA97pcF7pTAvfff/+t33//3b6XW5KCgoIUFRXlMP7atWs6f/68goKC0p1zyJAhiomJsT+OHz9uWf0AAAAAgHtHrjq8PCVwHzhwQMuWLZOfn59Df61atRQdHa3NmzcrLCxMkvTnn38qOTlZNWrUSHdeNzc3ubm5WVo7AAAAAODek6NCd1xcnA4ePGhfPnLkiLZt2yZfX18VKlRI7dq105YtW/TLL78oKSnJfp62r6+vXF1dVbZsWTVr1kwvvPCCJk+erMTERPXu3VsdOnTgyuUAAAAAgDsuR4XuTZs2qUGDBvblAQMGSJLCw8M1cuRI/fzzz5KkypUrO6y3bNky1a9fX5I0c+ZM9e7dW40aNZKTk5Patm2r8ePH35H6AQAAAAC4Xo4K3fXr15cxJt3+G/Wl8PX11axZs7KyLAAAAAAAMiXXXUgNAAAAAIDcgtANAAAAAIBFCN0AAAAAAFiE0A0AAAAAgEUI3QAAAAAAWCRHXb0cAAAA1vqg5ZDsLgGApNeyuwDcMezpBgAAAADAIoRuAAAAAAAsQugGAAAAAMAihG4AAAAAACxC6AYAAAAAwCKEbgAAAAAALELoBgAAAADAIoRuAAAAAAAsQugGAAAAAMAihG4AAAAAACxC6AYAAAAAwCKEbgAAAAAALELoBgAAAADAIoRuAAAAAAAsQugGAAAAAMAihG4AAAAAACxC6AYAAAAAwCKEbgAAAAAALELoBgAAAADAIoRuAAAAAAAsQugGAAAAAMAihG4AAAAAACxC6AYAAAAAwCKEbgAAAAAALELoBgAAAADAIoRuAAAAAAAsQugGAAAAAMAihG4AAAAAACxC6AYAAAAAwCKEbgAAAAAALELoBgAAAADAIoRuAAAAAAAsQugGAAAAAMAihG4AAAAAACxC6AYAAAAAwCKEbgAAAAAALELoBgAAAADAIoRuAAAAAAAsQugGAAAAAMAihG4AAAAAACxC6AYAAAAAwCKEbgAAAAAALELoBgAAAADAIoRuAAAAAAAsQugGAAAAAMAihG4AAAAAACxC6AYAAAAAwCKEbgAAAAAALELoBgAAAADAIoRuAAAAAAAsQugGAAAAAMAihG4AAAAAACxC6AYAAAAAwCKEbgAAAAAALELoBgAAAADAIoRuAAAAAAAsQugGAAAAAMAiWRq6r169qkuXLmXllAAAAAAA5FqZCt3fffed+vfv79A2atQoeXp6ysfHR0888YTi4uJued4VK1bo8ccfV3BwsGw2m+bPn+/Qb4zRG2+8oUKFCsnDw0ONGzfWgQMHHMacP39eHTt2lJeXl3x8fNStW7dM1QIAAAAAwO3KVOj+4IMPHPZor1mzRqNGjVLTpk3Vv39/LV68WG+//fYtz3vp0iVVqlRJEydOTLN/7NixGj9+vCZPnqz169crX758atq0qeLj4+1jOnbsqF27dun333/XL7/8ohUrVqh79+63/iIBAAAAALhNzplZ6dChQwoPD7cvz5o1S0FBQZo3b56cnZ2VnJysOXPmaPTo0bc0b/PmzdW8efM0+4wxGjdunIYNG6ZWrVpJkmbMmKHAwEDNnz9fHTp00J49e7R48WJt3LhR1apVkyRNmDBBjz76qN5//30FBwdn5uUCAAAAAJApmdrTnZCQIHd3d/vykiVL1Lx5czk7/5vhy5UrpxMnTmRNhf/nyJEjioyMVOPGje1t3t7eqlGjhtauXStJWrt2rXx8fOyBW5IaN24sJycnrV+//oavJzY21uEBAAAAAMDtylToDg0N1R9//CFJ2rRpkw4ePKhmzZrZ+8+cOSNPT8+sqfD/REZGSpICAwMd2gMDA+19kZGRCggIcOh3dnaWr6+vfUxaRo8eLW9vb/sjJCQkS2sHAAAAANybMhW6X3zxRX3//feqWLGiHnnkERUpUkQtWrSw969evVrly5fPsiKtNmTIEMXExNgfx48fz+6SAAAAAAB3gUyd092nTx+5u7tr4cKFCgsL0+DBg+Xh4SHp36uHR0ZG6qWXXsrSQoOCgiT9uxe9UKFC9vYzZ86ocuXK9jFRUVEO6127dk3nz5+3r58WNzc3ubm5ZWm9AAAAAABkKnRL0gsvvKAXXnghVbuvr682bdp0W0WlJTQ0VEFBQVq6dKk9ZMfGxmr9+vXq0aOHJKlWrVqKjo7W5s2bFRYWJkn6888/lZycrBo1amR5TQAAAAAA3EimQneJEiU0btw4tWzZMs3+X375RX379tXhw4dvad64uDgdPHjQvnzkyBFt27ZNvr6+Klq0qF5++WW99dZbuu+++xQaGqrhw4crODhYrVu3liSVLVtWzZo10wsvvKDJkycrMTFRvXv3VocOHbhy+T3qg5ZDsrsEAJJey+4CAAAAskmmQvfRo0cVFxeXbn9cXJz+/vvvW55306ZNatCggX15wIABkqTw8HBNmzZNgwYN0qVLl9S9e3dFR0erTp06Wrx4scOV1GfOnKnevXurUaNGcnJyUtu2bTV+/PhbrgUAAAAAgNuV6cPLbTZbun0bN26Uj4/PLc9Zv359GWNu+Jxvvvmm3nzzzXTH+Pr6atasWbf83AAAAAAAZLUMh+6PP/5YH3/8saR/w+/LL7+s119/PdW4mJgYRUdH65lnnsm6KgEAAAAAyIUyHLoDAgLstwE7evSoChcurMKFCzuMsdlsypcvn8LCwtSzZ8+srRQAAAAAgFwmw6H76aef1tNPPy1JatCggYYNG6ZGjRpZVhgAAAAAALldps7pXrZsWVbXAQAAAADAXSfTF1KTpN27d+vw4cO6cOFCmhdA69y58+1MDwAAAABArpap0H3o0CE9++yz2rBhQ7pXG7fZbIRuAAAAAMA9LVOh+8UXX9TOnTs1btw4PfzwwypQoEBW1wUAAAAAQK6XqdC9evVqDR06VH369MnqegAAAAAAuGs4ZWYlf39/eXt7Z3UtAAAAAADcVTIVul966SV98803SkpKyup6AAAAAAC4a2Tq8PL7779fSUlJqlSpkp577jmFhIQoT548qca1adPmtgsEAAAAACC3ylTobt++vf3/r7zySppjbDYbe8IBAAAAAPe0TIXuZcuWZXUdAAAAAADcdTIVuuvVq5fVdQAAAAAAcNfJVOhOkZCQoC1btigqKkq1a9eWv79/VtUFAAAAAECul6mrl0vS+PHjVahQIdWpU0dt2rTRjh07JEn//POP/P39NWXKlCwrEgAAAACA3ChToXvq1Kl6+eWX1axZM3311Vcyxtj7/P391bBhQ3333XdZViQAAAAAALlRpkL3Bx98oFatWmnWrFl6/PHHU/WHhYVp165dt10cAAAAAAC5WaZC98GDB9W8efN0+319fXXu3LlMFwUAAAAAwN0gU6Hbx8dH//zzT7r9u3fvVlBQUKaLAgAAAADgbpCp0P3oo4/q888/V3R0dKq+Xbt26YsvvlDLli1vtzYAAAAAAHK1TIXut956S0lJSXrggQc0bNgw2Ww2TZ8+Xc8++6yqVaumgIAAvfHGG1ldKwAAAAAAuUqmQndwcLA2b96sZs2aafbs2TLG6Ouvv9aCBQv09NNPa926ddyzGwAAAABwz3PO7IoBAQH68ssv9eWXX+rs2bNKTk5WwYIF5eSU6Vt/AwAAAABwV8l06L5ewYIFs2IaAAAAAADuKhkK3W+++aZsNptef/11OTk56c0337zpOjabTcOHD7/tAgEAAAAAyK1sxhhzs0FOTk6y2Wy6cuWKXF1dM3QIuc1mU1JSUpYUeafFxsbK29tbMTEx8vLyyu5ycBve3Zr+re0A3DmvVeE6H0BOwbYRyBnYNuZ+Gc2NGdrTnZycfMNlAAAAAACQGlc9AwAAAADAIpkK3Xny5NGsWbPS7Z89e7by5MmT6aIAAAAAALgbZCp03+w08KSkJNlstkwVBAAAAADA3SLTh5enF6pjY2P122+/yd+fCwMAAAAAAO5tGQ7do0aNUp48eZQnTx7ZbDY9++yz9uXrHwUKFNDXX3+tDh06WFk3AAAAAAA5XoauXi5J1atXV8+ePWWM0aRJk9SkSRPdf//9DmNsNpvy5cunsLAwtWnTJsuLBQAAAAAgN8lw6G7evLmaN28uSbp06ZJeeukl1ahRw7LCAAAAAADI7TIcuq83derUrK4DAAAAAIC7TqZCd4oTJ05o69atiomJUXJycqr+zp073870AAAAAADkapkK3fHx8QoPD9ecOXOUnJwsm81mv43Y9Vc1J3QDAAAAAO5lmbpl2NChQzV37ly9/fbbioiIkDFG06dP15IlS9S8eXNVqlRJ27dvz+paAQAAAADIVTIVun/88Ud17dpVgwcPVvny5SVJhQsXVuPGjfXLL7/Ix8dHEydOzNJCAQAAAADIbTIVuqOiolS9enVJkoeHh6R/r2ieom3btpo7d24WlAcAAAAAQO6VqdAdGBioc+fOSZLy5s2rAgUKaN++ffb+2NhYxcfHZ02FAAAAAADkUpm6kFqNGjW0atUqDR48WJL0+OOP67333lOhQoWUnJysjz76SDVr1szSQgEAAAAAyG0ytae7b9++KlGihBISEiRJ//vf/+Tj46NOnTopPDxc3t7eGj9+fJYWCgAAAABAbpOpPd116tRRnTp17MshISHas2ePdu7cqTx58qhMmTJydr6tW4ADAAAAAJDr3dKe7t9++03NmzdXmTJlVKdOHX388cf/fyInJ1WqVEkPPPAAgRsAAAAAAN3Cnu7ly5fr0UcflTFG/v7+OnTokNauXauTJ09q7NixVtYIAAAAAECulOE93e+8844CAwO1Y8cORUVFKSoqSg0aNNDEiRN15coVK2sEAAAAACBXynDo/uuvv9SzZ0898MADkqQCBQronXfe0ZUrV7Rr1y7LCgQAAAAAILfKcOiOjIxUaGioQ1uJEiUkSRcvXszaqgAAAAAAuAtkOHQbY2Sz2RzaUpaNMVlbFQAAAAAAd4Fbusz4jBkztG7dOvtyfHy8bDabPvnkE82fP99hrM1mc7i6OQAAAAAA95pbCt1LlizRkiVLUrX/N3BLhG4AAAAAADIcupOTk62sAwAAAACAu06Gz+kGAAAAAAC3htANAAAAAIBFCN0AAAAAAFiE0A0AAAAAgEUI3QAAAAAAWCRDoXv8+PHav3+/1bUAAAAAAHBXyVDo7t+/vzZt2mRfzpMnj2bNmmVZUQAAAAAA3A0yFLoLFCigM2fO2JeNMZYVBAAAAADA3cI5I4Pq16+vkSNHatu2bfL29pYkzZgxQ+vWrUt3HZvNpo8//jhrqgQAAAAAIBfKUOieNGmSXn75ZS1ZskRRUVGy2WxasmSJlixZku46VoTupKQkjRw5Ut98840iIyMVHBysLl26aNiwYbLZbJL+3Qs/YsQIffHFF4qOjlbt2rX16aef6r777svSWgAAAAAAuJkMHV4eEBCgWbNm6fTp00pKSpIxRt98842Sk5PTfSQlJWV5sWPGjNGnn36qTz75RHv27NGYMWM0duxYTZgwwT5m7NixGj9+vCZPnqz169crX758atq0qeLj47O8HgAAAAAAbiRDe7r/a+rUqXrooYeyupabWrNmjVq1aqXHHntMklS8eHF9++232rBhg6R/93KPGzdOw4YNU6tWrST9exh8YGCg5s+frw4dOtzxmgEAAAAA965M3ac7PDxcxYsXlyTt3r1bixYt0qJFi7R79+6srC2Vhx56SEuXLrXfvmz79u1atWqVmjdvLkk6cuSIIiMj1bhxY/s63t7eqlGjhtauXWtpbQAAAAAA/Fem9nRL0k8//aQBAwbo6NGjDu2hoaH68MMP1bJly9utLZXXXntNsbGxKlOmjPLkyaOkpCS9/fbb6tixoyQpMjJSkhQYGOiwXmBgoL0vLQkJCUpISLAvx8bGZnntAAAAAIB7T6b2dC9cuFBt27aVJL3zzjuaN2+e5s2bp3feeUfGGLVp00aLFy/O0kIl6fvvv9fMmTM1a9YsbdmyRdOnT9f777+v6dOn39a8o0ePlre3t/0REhKSRRUDAAAAAO5lNpOJm27XqlVLCQkJWrlypfLly+fQd+nSJdWpU0fu7u5Zfkh3SEiIXnvtNfXq1cve9tZbb+mbb77R3r17dfjwYZUsWVJbt25V5cqV7WPq1aunypUrp3s19bT2dIeEhCgmJkZeXl5Z+hpwZ7279Z/sLgGApNeq+Gd3CQD+D9tGIGdg25j7xcbGytvb+6a5MVN7unfs2KHw8PBUgVuS8uXLpy5dumjHjh2ZmfqGLl++LCcnx5Lz5Mmj5ORkSf8e2h4UFKSlS5fa+2NjY7V+/XrVqlUr3Xnd3Nzk5eXl8AAAAAAA4HZl6pxud3d3nT9/Pt3+8+fPy93dPdNFpefxxx/X22+/raJFi6p8+fLaunWrPvzwQz333HOS/r03+Msvv6y33npL9913n0JDQzV8+HAFBwerdevWWV4PAAAAAAA3kqnQ3bBhQ3388cdq1qxZqj3I69ev1/jx4/XII49kSYHXmzBhgoYPH66ePXsqKipKwcHBevHFF/XGG2/YxwwaNEiXLl1S9+7dFR0drTp16mjx4sWW/BEAAAAAAIAbydQ53UeOHFGtWrV09uxZVa9eXaVLl5Yk7du3Txs2bFBAQIDWrl1rv61YbpPRY/OR83HeGpAzcN4akHOwbQRyBraNuZ+l53SHhoZqx44d6tu3ry5cuKDZs2dr9uzZunDhgvr166ft27fn2sANAAAAAEBWyfR9ugMCAvTRRx/po48+ysp6AAAAAAC4a2RqTzcAAAAAALg5QjcAAAAAABYhdAMAAAAAYBFCNwAAAAAAFiF0AwAAAABgkVsO3ZcvX1ZYWJgmT55sRT0AAAAAANw1bjl0582bV0eOHJHNZrOiHgAAAAAA7hqZOry8WbNm+u2337K6FgAAAAAA7iqZCt3Dhw/X/v371alTJ61atUonT57U+fPnUz0AAAAAALiXOWdmpfLly0uSdu/erVmzZqU7LikpKXNVAQAAAABwF8hU6H7jjTc4pxsAAAAAgJvIVOgeOXJkFpcBAAAAAMDdJ0vu0x0TE8Oh5AAAAAAA/EemQ/emTZvUrFkz5c2bV35+flq+fLkk6Z9//lGrVq0UERGRVTUCAAAAAJArZSp0r1mzRnXq1NGBAwf07LPPKjk52d7n7++vmJgYffbZZ1lWJAAAAAAAuVGmQvfQoUNVtmxZ7d69W++8806q/gYNGmj9+vW3XRwAAAAAALlZpkL3xo0b1bVrV7m5uaV5FfPChQsrMjLytosDAAAAACA3y1TodnFxcTik/L9OnjwpT0/PTBcFAAAAAMDdIFOhu2bNmvrxxx/T7Lt06ZKmTp2qevXq3VZhAAAAAADkdpkK3aNGjdKmTZv02GOPadGiRZKk7du368svv1RYWJjOnj2r4cOHZ2mhAAAAAADkNs6ZWalGjRpauHChevTooc6dO0uSBg4cKEkqWbKkFi5cqIoVK2ZdlQAAAAAA5EKZCt2S1LBhQ+3bt09bt27VwYMHlZycrJIlSyosLCzNi6sBAAAAAHCvyXToTlGlShVVqVIlK2oBAAAAAOCukunQnZCQoC+++EILFy7U0aNHJUnFixfXo48+queff17u7u5ZVSMAAAAAALlSpi6kduLECVWuXFl9+/bV9u3bVbBgQRUsWFDbt29X3759VblyZZ04cSKrawUAAAAAIFfJVOju1auX/v77b33//fc6efKkli9fruXLl+vkyZOaPXu2jh07pl69emV1rQAAAAAA5CqZOrx86dKl6t+/v9q1a5eq78knn9SWLVs0YcKE2y4OAAAAAIDcLFN7uvPnz6+AgIB0+4OCgpQ/f/5MFwUAAAAAwN0gU6G7a9eumjZtmi5fvpyqLy4uTlOnTlW3bt1uuzgAAAAAAHKzDB1ePnfuXIflKlWq6Ndff1WZMmUUHh6uUqVKSZIOHDigGTNmyNfXVxUrVsz6agEAAAAAyEVsxhhzs0FOTk6y2WxKGXr9/9Od2GZTUlJS1lR5h8XGxsrb21sxMTHy8vLK7nJwG97d+k92lwBA0mtV/LO7BAD/h20jkDOwbcz9MpobM7Sne9myZVlWGAAAAAAA94oMhe569epZXQcAAAAAAHedTF1IDQAAAAAA3Fym7tMtSatWrdKUKVN0+PBhXbhwIdU53jabTdu3b7/tAgEAAAAAyK0yFbo//PBDvfrqq3J3d1fp0qXl6+ub1XUBAAAAAJDrZSp0v/fee6pdu7YWLFggb2/vrK4JAAAAAIC7QqbO6b58+bI6duxI4AYAAAAA4AYyFbobNGignTt3ZnUtAAAAAADcVTIVuidMmKClS5fq/fff1/nz57O6JgAAAAAA7gqZCt0hISF68cUX9dprr6lgwYLKly+fvLy8HB4ceg4AAAAAuNdl6kJqb7zxht5++20VLlxY1apVI2ADAAAAAJCGTIXuyZMn67HHHtP8+fPl5JSpneUAAAAAANz1MpWYr169qscee4zADQAAAADADWQqNbdo0UIrV67M6loAAAAAALirZCp0jxgxQrt371bPnj21efNmnT17VufPn0/1AAAAAADgXpapc7pLly4tSdq2bZs+++yzdMclJSVlrioAAAAAAO4Cmb56uc1my+paAAAAAAC4q2QqdI8cOTKLywAAAAAA4O7D5ccBAAAAALBIpvZ0v/nmmzcdY7PZNHz48MxMDwAAAADAXSHLDy+32WwyxhC6AQAAAAD3vEwdXp6cnJzqce3aNR06dEj9+/dXtWrVFBUVldW1AgAAAACQq2TZOd1OTk4KDQ3V+++/r/vuu099+vTJqqkBAAAAAMiVLLmQWt26dbVw4UIrpgYAAAAAINewJHRv2rRJTk5cGB0AAAAAcG/L1IXUZsyYkWZ7dHS0VqxYoblz5+r555+/rcIAAAAAAMjtMhW6u3Tpkm6fv7+/XnvtNb3xxhuZrQkAAAAAgLtCpkL3kSNHUrXZbDYVKFBA+fPnv+2iAAAAAAC4G2QqdBcrViyr6wAAAAAA4K7D1c4AAAAAALBIhvd0V6xY8ZYmttls2r59+y0XBAAAAADA3SLDe7p9fX3l5+d300diYqL++usv/fXXX5YUfPLkST377LPy8/OTh4eHKlSooE2bNtn7jTF64403VKhQIXl4eKhx48Y6cOCAJbUAAAAAAHAjGd7THRERccP+yMhIjRkzRp999pny5MmjTp063W5tqVy4cEG1a9dWgwYNtGjRIhUsWFAHDhxQgQIF7GPGjh2r8ePHa/r06QoNDdXw4cPVtGlT7d69W+7u7lleEwAAAAAA6cnUhdSud+bMGb377rv6/PPPlZiYqGeffVavv/66SpYsmRX1ORgzZoxCQkI0depUe1toaKj9/8YYjRs3TsOGDVOrVq0k/XtP8cDAQM2fP18dOnTI8poAAAAAAEhPpi+kFhkZqf79+6tEiRKaOHGi2rdvr71792rKlCmWBG5J+vnnn1WtWjU9+eSTCggIUJUqVfTFF1/Y+48cOaLIyEg1btzY3ubt7a0aNWpo7dq16c6bkJCg2NhYhwcAAAAAALfrlvd0R0ZG6t1339UXX3yhxMREderUScOGDXPY42yVw4cP69NPP9WAAQM0dOhQbdy4UX379pWrq6vCw8MVGRkpSQoMDHRYLzAw0N6XltGjR2vUqFGW1g4AAAD815HNaxQxbbxO7tqmS9HnJEmth76nGu262Mes/3G6ti78Xqf2/qXE+MuSpP5z1igg9D77mB9G9NaWBbPTfZ7RW85a8wIA3FSGQ/fp06ftYfvatWvq3LmzXn/99TsStlMkJyerWrVqeueddyRJVapU0V9//aXJkycrPDw80/MOGTJEAwYMsC/HxsYqJCTktusFAAAAbuTk3h06uH65fAsXs4fu/9q/ZqlO7f1L+Qr4Kfr05TTH+BYJVcgDYQ5tZw7t0dUrl5XfPyDL6waQcRkO3SVLllRCQoIqV66soUOHKjQ0VBcuXNCFCxfSXadq1apZUmSKQoUKqVy5cg5tZcuW1Zw5cyRJQUFBkv49z7xQoUL2MWfOnFHlypXTndfNzU1ubm5ZWisAAABwM1Uee0o12oYr7vxZjW0RluaYVkPGytO3oLb++r1+HNk3zTGNXhioRi8MtC/Hno20z1er/fNZXziADMtw6I6Pj5ckbd26VU899dQNxxpjZLPZlJSUdHvV/Uft2rW1b98+h7b9+/erWLFikv69qFpQUJCWLl1qD9mxsbFav369evTokaW1AAAAALcrn4/vTcd4FQy65XnXfPu5khKvytUjr2o+2TUzpQHIIhkO3ddfMTy79O/fXw899JDeeecdPfXUU9qwYYM+//xzff7555Ikm82ml19+WW+99Zbuu+8++y3DgoOD1bp16+wtHgAAALgDEi7Haf2cGZKkaq07ysPLJ3sLAu5xGQ7dt3POdFZ58MEHNW/ePA0ZMkRvvvmmQkNDNW7cOHXs2NE+ZtCgQbp06ZK6d++u6Oho1alTR4sXL+Ye3QAAALgnbJz7jeIvxsgpTx7V6fhSdpcD3PNu+z7dd1qLFi3UokWLdPttNpvefPNNvfnmm3ewKgAAACD7JV27ptWzPpMkPdC4pQoEF83migBk+j7dAAAAAHKWnb//pOjIE5Kkup16ZXM1AKRcuKcbAAAAuFv8tfQXLfp4lJKvuwDx75+O0YoZExVSIUwd3p6sRR+/qb+WLtDVy5fsY6b2ekpOzs566OkXVPvp7vb2lV9PkiSVqFZHhctVunMvBEC6CN0AAABANkm4dFHnTxx1aLt04R9duvCPvAODJUlx56NSjUnZm30lJtredmjDSp3au0OS9HDnnpbVDODW2IwxJruLyGliY2Pl7e2tmJgYeXl5ZXc5uA3vbv0nu0sAIOm1Kv7ZXQKA/8O2EcgZ2DbmfhnNjZzTDQAAAACARQjdAAAAAABYhNANAAAAAIBFCN0AAAAAAFiE0A0AAAAAgEUI3QAAAAAAWITQDQAAAACARQjdAAAAAABYhNANAAAAAIBFCN0AAAAAAFiE0A0AAAAAgEUI3QAAAAAAWITQDQAAAACARQjdAAAAAABYhNANAAAAAIBFCN0AAAAAAFiE0A0AAAAAgEUI3QAAAAAAWITQDQAAAACARQjdAAAAAABYhNANAAAAAIBFCN0AAAAAAFjEObsLAHBvS7gcpxXTJ2rn7/N14fQJeeT3Vrn6zdW09+vy8PKRJEUe2K0/Phur4zs363LMBfkXLanaHV9UtVbPZG/xAAAAwE0QugFkqxkvP6vDm1bLKU8eBZQoowun/tb6H6fpxO5t6jFtkf45dkiTwpsrMf6yPLwLyK9oCUUe3K05o/opPi5WdTq+lN0vAQAAAEgXh5cDyDZnDu/T4U2rJUktXnlb/WZHqPfMPyRJJ3dv087ff9KWn79TYvxlObu66ZX56/Xy9ytU/7mXJUlLP3tPifFXsqt8AAAA4KYI3QCyjUlOtv/f5vTvjyOb7f//WDq4frmMuW6MzeYwNj4uVid2bb0TpQIAAACZwuHlALJNQOj9CixVVmcO7tGCsUO0Yc50nT91zN4fG3VaDz7xrFbP+kzXribo/dY15OUfpDOH9tjHxJyNzI7SAQAAgAxhTzeAbOOUJ4+6TvhOlZu3U14fX50/+beKV64p3yLF/+13dlGxStXV6cMZCnkgTNeuJuhyzHlVafGUfY48zvztEAAAADkXv60CyFbegcFq//an9uXEhHi906S8JKlg8VKSpDIPP6IyDz9iH7Nt8VxtWTD73zHFSt3BagEAAIBbw55uANnq5J7tSrgUJ0lKTkrSonEjFR8XK0mq+EhrSdLhzavt46MjT2rpZ2MlSYElyyiwVNk7WzAAAABwC9jTDSBbbfppljb9NEt+IaGK+ydKl6LPSZJqP/OiQh6oKkma3vcZubjnladfQZ07dljXribIxT2vnhj2of3iagAAAEBOROgGkK1CHqiqw5tW6/yJvyUZFS5bSTWe7KIHWz9rH1OmblMd2bxG/xw9KNd8nipdp7EadX9Vhe4vn32FAwAAABlA6AaQraq2aK+qLdrfcMzToz+/Q9UAAAAAWYtzugEAAAAAsAihGwAAAAAAixC6AQAAAACwCKEbAAAAAACLELoBAAAAALAIoRsAAAAAAIsQugEAAAAAsAihGwAAAAAAixC6AQAAAACwCKEbAAAAAACLELoBAAAAALAIoRsAAAAAAIsQugEAAAAAsAihGwAAAAAAixC6AQAAAACwCKEbAAAAAACLELoBAAAAALAIoRsAAAAAAIsQugEAAAAAsAihGwAAAAAAixC6AQAAAACwCKEbAAAAAACLELoBAAAAALAIoRsAAAAAAIsQugEAAAAAsAihGwAAAAAAi+Tq0P3uu+/KZrPp5ZdftrfFx8erV69e8vPzk6enp9q2baszZ85kX5EAAAAAgHtWrg3dGzdu1GeffaaKFSs6tPfv318LFizQDz/8oOXLl+vUqVNq06ZNNlUJAAAAALiX5crQHRcXp44dO+qLL75QgQIF7O0xMTH66quv9OGHH6phw4YKCwvT1KlTtWbNGq1bty4bKwYAAAAA3ItyZeju1auXHnvsMTVu3NihffPmzUpMTHRoL1OmjIoWLaq1a9fe6TIBAAAAAPc45+wu4FZ999132rJlizZu3JiqLzIyUq6urvLx8XFoDwwMVGRkZLpzJiQkKCEhwb4cGxubZfUCAAAAAO5duWpP9/Hjx9WvXz/NnDlT7u7uWTbv6NGj5e3tbX+EhIRk2dwAAAAAgHtXrgrdmzdvVlRUlKpWrSpnZ2c5Oztr+fLlGj9+vJydnRUYGKirV68qOjraYb0zZ84oKCgo3XmHDBmimJgY++P48eMWvxIAAAAAwL0gVx1e3qhRI+3cudOhrWvXripTpowGDx6skJAQubi4aOnSpWrbtq0kad++fTp27Jhq1aqV7rxubm5yc3OztHYAAAAAwL0nV4Xu/Pnz64EHHnBoy5cvn/z8/Ozt3bp104ABA+Tr6ysvLy/16dNHtWrVUs2aNbOjZAAAAADAPSxXhe6M+Oijj+Tk5KS2bdsqISFBTZs21aRJk7K7LAAAAADAPSjXh+6IiAiHZXd3d02cOFETJ07MnoIAAAAAAPg/uepCagAAAAAA5CaEbgAAAAAALELoBgAAAADAIoRuAAAAAAAsQugGAAAAAMAihG4AAAAAACxC6AYAAAAAwCKEbgAAAAAALELoBgAAAADAIoRuAAAAAAAsQugGAAAAAMAihG4AAAAAACxC6AYAAAAAwCKEbgAAAAAALELoBgAAAADAIoRuAAAAAAAsQugGAAAAAMAihG4AAAAAACxC6AYAAAAAwCKEbgAAAAAALELoBgAAAADAIoRuAAAAAAAsQugGAAAAAMAihG4AAAAAACxC6AYAAAAAwCKEbgAAAAAALELoBgAAAADAIoRuAAAAAAAsQugGAAAAAMAihG4AAAAAACxC6AYAAAAAwCKEbgAAAAAALELoBgAAAADAIoRuAAAAAAAsQugGAAAAAMAihG4AAAAAACxC6AYAAAAAwCKEbgAAAAAALELoBgAAAADAIoRuAAAAAAAsQugGAAAAAMAihG4AAAAAACxC6AYAAAAAwCKEbgAAAAAALELoBgAAAADAIoRuAAAAAAAsQugGAAAAAMAihG4AAAAAACxC6AYAAAAAwCKEbgAAAAAALELoBgAAAADAIoRuAAAAAAAsQugGAAAAAMAihG4AAAAAACxC6AYAAAAAwCKEbgAAAAAALELoBgAAAADAIoRuAAAAAAAsQugGAAAAAMAihG4AAAAAACxC6AYAAAAAwCKEbgAAAAAALELoBgAAAADAIoRuAAAAAAAskutC9+jRo/Xggw8qf/78CggIUOvWrbVv3z6HMfHx8erVq5f8/Pzk6emptm3b6syZM9lUMQAAAADgXpXrQvfy5cvVq1cvrVu3Tr///rsSExP1yCOP6NKlS/Yx/fv314IFC/TDDz9o+fLlOnXqlNq0aZONVQMAAAAA7kXO2V3ArVq8eLHD8rRp0xQQEKDNmzerbt26iomJ0VdffaVZs2apYcOGkqSpU6eqbNmyWrdunWrWrJkdZQMAAAAA7kG5bk/3f8XExEiSfH19JUmbN29WYmKiGjdubB9TpkwZFS1aVGvXrk1zjoSEBMXGxjo8AAAAAAC4XbluT/f1kpOT9fLLL6t27dp64IEHJEmRkZFydXWVj4+Pw9jAwEBFRkamOc/o0aM1atQoq8sFANwjkpKSlJiYmN1lIINcXV3l5JTr90MAAHKoXB26e/Xqpb/++kurVq26rXmGDBmiAQMG2JdjY2MVEhJyu+UBAO4xxhhFRkYqOjo6u0vBLXByclJoaKhcXV2zuxQAwF0o14bu3r1765dfftGKFStUpEgRe3tQUJCuXr2q6Ohoh73dZ86cUVBQUJpzubm5yc3NzeqSAQB3uZTAHRAQoLx588pms2V3SbiJ5ORknTp1SqdPn1bRokX5mgEAslyuC93GGPXp00fz5s1TRESEQkNDHfrDwsLk4uKipUuXqm3btpKkffv26dixY6pVq1Z2lAwAuAckJSXZA7efn192l4NbULBgQZ06dUrXrl2Ti4tLdpcDALjL5LrQ3atXL82aNUs//fST8ufPbz9P29vbWx4eHvL29la3bt00YMAA+fr6ysvLS3369FGtWrW4cjkAwDIp53DnzZs3myvBrUo5rDwpKYnQDQDIcrkudH/66aeSpPr16zu0T506VV26dJEkffTRR3JyclLbtm2VkJCgpk2batKkSXe4UgDAvYjDk3MfvmYAACvlutBtjLnpGHd3d02cOFETJ068AxUBAAAAAJA27o8BAEAudPz4cT333HMKDg6Wq6urihUrpn79+uncuXMZnuPo0aOy2Wzatm2bdYUCAHCPI3QDAJDLHD58WNWqVdOBAwf07bff6uDBg5o8ebKWLl2qWrVq6fz589ldIgAA+D+EbgAAcplevXrJ1dVVS5YsUb169VS0aFE1b95cf/zxh06ePKnXX39d0r/nKs+fP99hXR8fH02bNk2S7HcAqVKlimw2m8P1UqZMmaLy5cvLzc1NhQoVUu/eve19x44dU6tWreTp6SkvLy899dRTOnPmjL1/5MiRqly5sqZMmaKiRYvK09NTPXv2VFJSksaOHaugoCAFBATo7bffdqgtOjpazz//vAoWLCgvLy81bNhQ27dvz8J3DgCAO4/QDQBALnL+/Hn99ttv6tmzpzw8PBz6goKC1LFjR82ePTtD10DZsGGDJOmPP/7Q6dOnNXfuXEn/XrS0V69e6t69u3bu3Kmff/5ZpUqVkvTvfa1btWql8+fPa/ny5fr99991+PBhtW/f3mHuQ4cOadGiRVq8eLG+/fZbffXVV3rsscd04sQJLV++XGPGjNGwYcO0fv16+zpPPvmkoqKitGjRIm3evFlVq1ZVo0aN2HMPAMjVct2F1AAAuJcdOHBAxhiVLVs2zf6yZcvqwoULOnv27E3nKliwoCTJz89PQUFB9va33npLAwcOVL9+/extDz74oCRp6dKl2rlzp44cOaKQkBBJ0owZM1S+fHlt3LjRPi45OVlTpkxR/vz5Va5cOTVo0ED79u3TwoUL5eTkpNKlS2vMmDFatmyZatSooVWrVmnDhg2KioqSm5ubJOn999/X/Pnz9eOPP6p79+6ZeLcAAMh+hG4AAHKhjOzJzoyoqCidOnVKjRo1SrN/z549CgkJsQduSSpXrpx8fHy0Z88ee+guXry48ufPbx8TGBioPHnyyMnJyaEtKipKkrR9+3bFxcXJz8/P4fmuXLmiQ4cOZdnrAwDgTiN0AwCQi5QqVUo2m0179uzRE088kap/z549KlCggAoWLCibzZYqnCcmJt5w/v8esp5ZLi4uDss2my3NtuTkZElSXFycChUqpIiIiFRz+fj4ZElNAABkB87pBgAgF/Hz81OTJk00adIkXblyxaEvMjJSM2fOVPv27WWz2VSwYEGdPn3a3n/gwAFdvnzZvuzq6ipJSkpKsrflz59fxYsX19KlS9N8/rJly+r48eM6fvy4vW337t2Kjo5WuXLlMv26qlatqsjISDk7O6tUqVIOD39//0zPCwBAdiN0AwCQy3zyySdKSEhQ06ZNtWLFCh0/flyLFy9WkyZNVLhwYftVwRs2bKhPPvlEW7du1aZNm/TSSy857G0OCAiQh4eHFi9erDNnzigmJkbSv1cf/+CDDzR+/HgdOHBAW7Zs0YQJEyRJjRs3VoUKFdSxY0dt2bJFGzZsUOfOnVWvXj1Vq1Yt06+pcePGqlWrllq3bq0lS5bo6NGjWrNmjV5//XVt2rTpNt4tAACyF6EbAIBc5r777tOmTZtUokQJPfXUUypZsqS6d++uBg0aaO3atfL19ZUkffDBBwoJCdHDDz+sZ555Rq+88ory5s1rn8fZ2Vnjx4/XZ599puDgYLVq1UqSFB4ernHjxmnSpEkqX768WrRooQMHDkj695Dwn376SQUKFFDdunXVuHFjlShRQrNnz76t12Sz2bRw4ULVrVtXXbt21f33368OHTro77//VmBg4G3NDQBAdrIZq67EkovFxsbK29tbMTEx8vLyyu5ycBve3fpPdpcAQNJrVe7+w4Pj4+N15MgRhYaGyt3dPbvLwS241752bBuBnOFe2Dbe7TKaG9nTDQAAAACARQjdAAAAAABYhNANAAAAAIBFCN0AAAAAAFiE0A0AAAAAgEUI3QAAAAAAWITQDQAAAACARQjdAAAAAABYhNANAAAAAIBFCN0AACDbREREyGazKTo62tLn6dKli1q3bm3pcwAAkBZCNwAA0NmzZ9WjRw8VLVpUbm5uCgoKUtOmTbV69WpLn/ehhx7S6dOn5e3tbenzAACQXZyzuwAAAO527279544+32tV/G95nbZt2+rq1auaPn26SpQooTNnzmjp0qU6d+5cpmowxigpKUnOzjf+VcPV1VVBQUGZeg4AAHID9nQDAHCPi46O1sqVKzVmzBg1aNBAxYoVU/Xq1TVkyBC1bNlSR48elc1m07Zt2xzWsdlsioiIkPT/DxNftGiRwsLC5ObmpilTpshms2nv3r0Oz/fRRx+pZMmSDutFR0crNjZWHh4eWrRokcP4efPmKX/+/Lp8+bIk6fjx43rqqafk4+MjX19ftWrVSkePHrWPT0pK0oABA+Tj4yM/Pz8NGjRIxpisf+MAAMgAQjcAAPc4T09PeXp6av78+UpISLituV577TW9++672rNnj9q1a6dq1app5syZDmNmzpypZ555JtW6Xl5eatGihWbNmpVqfOvWrZU3b14lJiaqadOmyp8/v1auXKnVq1fL09NTzZo109WrVyVJH3zwgaZNm6YpU6Zo1apVOn/+vObNm3dbrwsAgMwidAMAcI9zdnbWtGnTNH36dPn4+Kh27doaOnSoduzYcctzvfnmm2rSpIlKliwpX19fdezYUd9++629f//+/dq8ebM6duyY5vodO3bU/Pnz7Xu1Y2Nj9euvv9rHz549W8nJyfryyy9VoUIFlS1bVlOnTtWxY8fse93HjRunIUOGqE2bNipbtqwmT57MOeMAgGxD6AYAAGrbtq1OnTqln3/+Wc2aNVNERISqVq2qadOm3dI81apVc1ju0KGDjh49qnXr1kn6d6911apVVaZMmTTXf/TRR+Xi4qKff/5ZkjRnzhx5eXmpcePGkqTt27fr4MGDyp8/v30Pva+vr+Lj43Xo0CHFxMTo9OnTqlGjhn1OZ2fnVHUBAHCnELoBAIAkyd3dXU2aNNHw4cO1Zs0adenSRSNGjJCT07+/Llx/XnRiYmKac+TLl89hOSgoSA0bNrQfMj5r1qx093JL/15YrV27dg7j27dvb78gW1xcnMLCwrRt2zaHx/79+9M8ZB0AgOxG6AYAAGkqV66cLl26pIIFC0qSTp8+be+7/qJqN9OxY0fNnj1ba9eu1eHDh9WhQ4ebjl+8eLF27dqlP//80yGkV61aVQcOHFBAQIBKlSrl8PD29pa3t7cKFSqk9evX29e5du2aNm/enOF6AQDISoRuAADucefOnVPDhg31zTffaMeOHTpy5Ih++OEHjR07Vq1atZKHh4dq1qxpv0Da8uXLNWzYsAzP36ZNG128eFE9evRQgwYNFBwcfMPxdevWVVBQkDp27KjQ0FCHQ8U7duwof39/tWrVSitXrtSRI0cUERGhvn376sSJE5Kkfv366d1339X8+fO1d+9e9ezZU9HR0Zl6bwAAuF2EbgAA7nGenp6qUaOGPvroI9WtW1cPPPCAhg8frhdeeEGffPKJJGnKlCm6du2awsLC9PLLL+utt97K8Pz58+fX448/ru3bt9/w0PIUNptNTz/9dJrj8+bNqxUrVqho0aL2C6V169ZN8fHx8vLykiQNHDhQnTp1Unh4uGrVqqX8+fPriSeeuIV3BACArGMz3LgyldjYWHl7eysmJsa+AUfu9O7Wf7K7BACSXqvin90lWC4+Pl5HjhxRaGio3N3ds7sc3IJ77WvHthHIGe6FbePdLqO5kT3dAAAAAABYhNANAAAAAIBFCN0AAAAAAFiE0A0AAAAAgEUI3QAAAAAAWITQDQAAAACARQjdAAAAAABYhNANAAAAAIBFCN0AAAAAAFiE0A0AADLEZrNp/vz5tzVHly5d1Lp16yypBwCA3IDQDQDAPa5Lly6y2Wyy2WxycXFRYGCgmjRpoilTpig5Odk+7vTp02revHk2VgoAQO7jnN0FAABwt0scNfCOPp/LiA9ueZ1mzZpp6tSpSkpK0pkzZ7R48WL169dPP/74o37++Wc5OzsrKCjIgmoBALi7sacbAADIzc1NQUFBKly4sKpWraqhQ4fqp59+0qJFizRt2jRJqQ8vP378uJ566in5+PjI19dXrVq10tGjR+39SUlJGjBggHx8fOTn56dBgwbJGHNnXxgAANmM0A0AANLUsGFDVapUSXPnzk3Vl5iYqKZNmyp//vxauXKlVq9eLU9PTzVr1kxXr16VJH3wwQeaNm2apkyZolWrVun8+fOaN2/enX4ZAABkK0I3AABIV5kyZRz2XqeYPXu2kpOT9eWXX6pChQoqW7aspk6dqmPHjikiIkKSNG7cOA0ZMkRt2rRR2bJlNXnyZHl7e9/ZFwAAQDbjnG4AAJAuY4xsNluq9u3bt+vgwYPKnz+/Q3t8fLwOHTqkmJgYnT59WjVq1LD3OTs7q1q1ahxiDgC4pxC6AQBAuvbs2aPQ0NBU7XFxcQoLC9PMmTNT9RUsWPBOlAYAQK7A4eUAACBNf/75p3bu3Km2bdum6qtataoOHDiggIAAlSpVyuHh7e0tb29vFSpUSOvXr7evc+3aNW3evPlOvgQAALIdoRsAACghIUGRkZE6efKktmzZonfeeUetWrVSixYt1Llz51TjO3bsKH9/f7Vq1UorV67UkSNHFBERob59++rEiROSpH79+undd9/V/PnztXfvXvXs2VPR0dF3+JUBAJC9OLwcAABo8eLFKlSokJydnVWgQAFVqlRJ48ePV3h4uJycUv+NPm/evFqxYoUGDx6sNm3a6OLFiypcuLAaNWokLy8vSdLAgQN1+vRp+xzPPfecnnjiCcXExNzplwcAQLaxGa5mkkpsbKy8vb0VExNj/8UBudO7W//J7hIASHqtin92l2C5+Ph4HTlyRKGhoXJ3d8/ucnAL7rWvHdtGIGe4F7aNd7uM5kYOLwcAAAAAwCKEbgAAAAAALELoBgAAAADAIoRuAAAAAAAsQugGAAAAAMAihG4AALIQNwXJffiaAQCsROgGACALuLi4SJIuX76czZXgVl29elWSlCdPnmyuBABwN3LO7gIAALgb5MmTRz4+PoqKipIk5c2bVzabLZurws0kJyfr7Nmzyps3r5yd+bUIAJD12LoAAJBFgoKCJMkevJE7ODk5qWjRovyRBABgCUI3AABZxGazqVChQgoICFBiYmJ2l4MMcnV1lZMTZ9wBAKxx14buiRMn6r333lNkZKQqVaqkCRMmqHr16tldFgDgHpAnTx7ODwYAAJLu0gupzZ49WwMGDNCIESO0ZcsWVapUSU2bNuVwPwAAAADAHXVXhu4PP/xQL7zwgrp27apy5cpp8uTJyps3r6ZMmZLdpQEAAAAA7iF3Xei+evWqNm/erMaNG9vbnJyc1LhxY61duzYbKwMAAAAA3GvuunO6//nnHyUlJSkwMNChPTAwUHv37k1znYSEBCUkJNiXY2JiJEmxsbHWFYo7Ij7uYnaXAEBSbKxrdpcA4P+wbQRyBraNuV9KXjTG3HDcXRe6M2P06NEaNWpUqvaQkJBsqAYA7j6pf8ICAHBvY9t497h48aK8vb3T7b/rQre/v7/y5MmjM2fOOLSfOXPGfv/U/xoyZIgGDBhgX05OTtb58+fl5+fHPTuBbBQbG6uQkBAdP35cXl5e2V0OAADZjm0jkHMYY3Tx4kUFBwffcNxdF7pdXV0VFhampUuXqnXr1pL+DdFLly5V796901zHzc1Nbm5uDm0+Pj4WVwogo7y8vPjFAgCA67BtBHKGG+3hTnHXhW5JGjBggMLDw1WtWjVVr15d48aN06VLl9S1a9fsLg0AAAAAcA+5K0N3+/btdfbsWb3xxhuKjIxU5cqVtXjx4lQXVwMAAAAAwEp3ZeiWpN69e6d7ODmA3MHNzU0jRoxIdfoHAAD3KraNQO5jMze7vjkAAAAAAMgUp+wuAAAAAACAuxWhGwAAAAAAixC6AdwxERERstlsio6OvuG4pUuXqmzZskpKSrozhWWjq1evqnjx4tq0aVN2lwIAuEvUrVtXs2bNyu4y7ojFixercuXKSk5Ozu5SgHQRuoFcKjIyUn369FGJEiXk5uamkJAQPf7441q6dGmWPk/9+vX18ssvZ+mcNzNo0CANGzZMefLksbddvXpV7733nqpWrap8+fLJ29tblSpV0rBhw3Tq1Kk7Wt+tmjhxoooXLy53d3fVqFFDGzZssPe5urrqlVde0eDBg7OxQgDImWw22w0fI0eOtOR5u3TpotatW1syd2ZMmzZNPj4+GRr7888/68yZM+rQoYND+9atW9W+fXsVKlRIbm5uKlasmFq0aKEFCxYoJ1/iqW/fvgoLC5Obm5sqV66cqr9Zs2ZycXHRzJkz73xxQAYRuoFc6OjRowoLC9Off/6p9957Tzt37tTixYvVoEED9erV647XY4zRtWvXsmSuVatW6dChQ2rbtq29LSEhQU2aNNE777yjLl26aMWKFdq5c6fGjx+vf/75RxMmTEh3vqtXr2ZJXZk1e/ZsDRgwQCNGjNCWLVtUqVIlNW3aVFFRUfYxHTt21KpVq7Rr165srBQAcp7Tp0/bH+PGjZOXl5dD2yuvvGIfm5Xbotxs/Pjx6tq1q5yc/v+v+T/99JNq1qypuLg4TZ8+XXv27NHixYv1xBNPaNiwYYqJiUlzrpzynj733HNq3759uv1dunTR+PHj72BFwC0yAHKd5s2bm8KFC5u4uLhUfRcuXLD//++//zYtW7Y0+fLlM/nz5zdPPvmkiYyMtPePGDHCVKpUycyYMcMUK1bMeHl5mfbt25vY2FhjjDHh4eFGksPjyJEjZtmyZUaSWbhwoalatapxcXExy5YtM/Hx8aZPnz6mYMGCxs3NzdSuXdts2LDB/nwp611f43/16tXLtGvXzqFt9OjRxsnJyWzZsiXNdZKTk+3/r1evnunVq5fp16+f8fPzM/Xr1zfGGBMREWEefPBB4+rqaoKCgszgwYNNYmKifb1ixYqZjz76yGHeSpUqmREjRtiXJZlJkyaZZs2aGXd3dxMaGmp++OGHdF+LMcZUr17d9OrVy76clJRkgoODzejRox3GNWjQwAwbNuyGcwHAvWzq1KnG29vbvpzetigpKcm88847pnjx4sbd3d1UrFjR4Wf1tWvXzHPPPWfvv//++824cePs/SNGjEi17Vu2bJk5cuSIkWRmz55t6tSpY9zd3U21atXMvn37zIYNG0xYWJjJly+fadasmYmKinKo/YsvvjBlypQxbm5upnTp0mbixIn2vpR558yZY+rXr288PDxMxYoVzZo1axxe5/WP67dN14uKijI2m8389ddf9ra4uDjj5+dnnnjiiXTf25TtaGa37//92hhjzLx588z1USPld47JkyebIkWKGA8PD/Pkk0+a6OjodOu6Xsr6afn777+NJHPw4MEMzQXcaYRuIJc5d+6csdls5p133rnhuKSkJFO5cmVTp04ds2nTJrNu3ToTFhZm6tWrZx8zYsQI4+npadq0aWN27txpVqxYYYKCgszQoUONMcZER0ebWrVqmRdeeMGcPn3anD592ly7ds2+Ua5YsaJZsmSJOXjwoDl37pzp27evCQ4ONgsXLjS7du0y4eHhpkCBAubcuXPGmIyF7ooVK5p33303VVvTpk0z9P7Uq1fPeHp6mldffdXs3bvX7N2715w4ccLkzZvX9OzZ0+zZs8fMmzfP+Pv7O/zSktHQ7efnZ7744guzb98+M2zYMJMnTx6ze/fuNGtJSEgwefLkMfPmzXNo79y5s2nZsqVD2+DBgx2+NgAAR+mF7v9ui9566y1TpkwZs3jxYnPo0CEzdepU4+bmZiIiIowxxly9etW88cYbZuPGjebw4cPmm2++MXnz5jWzZ882xhhz8eJF89RTT5lmzZrZt30JCQn2cJwy9+7du03NmjVNWFiYqV+/vlm1apXZsmWLKVWqlHnppZfsdX7zzTemUKFCZs6cOebw4cNmzpw5xtfX10ybNs0YYxzm/eWXX8y+fftMu3btTLFixUxiYqJJSEgw48aNM15eXvZ6Ll68mOZ7NHfuXJMvXz6TlJTk0CbJrF279qbvcWa37xkN3fny5TMNGzY0W7duNcuXLzelSpUyzzzzzE3rSlk/vdBtjDGBgYFm6tSpGZoLuNMI3UAus379eiPJzJ0794bjlixZYvLkyWOOHTtmb9u1a5eRZP/r9IgRI0zevHnte7aNMebVV181NWrUsC/Xq1fP9OvXz2HulI3y/Pnz7W1xcXHGxcXFzJw509529epVExwcbMaOHeuw3o1Ct7e3t5kxY4ZDm7u7u+nbt69DW+vWrU2+fPlMvnz5TK1atRzqrVKlisPYoUOHmtKlSzvsEZ84caLx9PS0/2KS0dB9/S9SxhhTo0YN06NHjzRfy8mTJ40k+96KFK+++qqpXr26Q9vHH39sihcvnuY8AID0Q/f126L4+HiTN2/eVD93u3XrZp5++ul05+7Vq5dp27atfTk8PNy0atXKYUxKOP7yyy/tbd9++62RZJYuXWpvGz16tCldurR9uWTJkmbWrFkOc/3vf/+zb7vSmjdle71nz540X3t6PvroI1OiRAmHtnfffddIMufPn7e3bdiwwb4NzZcvn1mwYIExJvPb94yG7jx58pgTJ07Y2xYtWmScnJzM6dOnb/rabha6q1SpYkaOHHnTeYDs4GzNQesArGIyeLGTPXv2KCQkRCEhIfa2cuXKycfHR3v27NGDDz4oSSpevLjy589vH1OoUCGH841vpFq1avb/Hzp0SImJiapdu7a9zcXFRdWrV9eePXsyNJ8kXblyRe7u7jcdN2nSJF26dEnjx4/XihUrHPrCwsIclvfs2aNatWrJZrPZ22rXrq24uDidOHFCRYsWzXB9tWrVSrW8bdu2DK+fHg8PD12+fPm25wGAe83126KDBw/q8uXLatKkicOYq1evqkqVKvbliRMnasqUKTp27JiuXLmiq1evpnmRrrRUrFjR/v/AwEBJUoUKFRzaUrajly5d0qFDh9StWze98MIL9jHXrl2Tt7d3uvMWKlRIkhQVFaUyZcpkqC4p49vQihUr2rdd9913X6rztq3YvktS0aJFVbhwYftyrVq1lJycrH379ikoKOiW5vovtqPIyQjdQC5z3333yWazae/evVkyn4uLi8OyzWbL8G038uXLlyU1XM/f318XLlxwaLvvvvu0b98+h7aUX0h8fX2zpC4nJ6dUf9BITEy85Xmu5+/vrzx58ujMmTMO7WfOnEn1y8X58+dVsGDB23o+ALgXXf8zPy4uTpL066+/OoQ7SXJzc5Mkfffdd3rllVf0wQcfqFatWsqfP7/ee+89rV+/PkPPd/12M+WPuf9tS9mOptTzxRdfqEaNGg7zXH+HjvTmvdXbYKW3DZWkffv2qWbNmpL+fS9KlSqV7jy3uh21Yht6q9iOIifj6uVALuPr66umTZtq4sSJunTpUqr+lHtgly1bVsePH9fx48ftfbt371Z0dLTKlSuX4edzdXXN0P2yS5YsKVdXV61evdrelpiYqI0bN97S81WpUkW7d+92aHv66af1+++/a+vWrRme53ply5bV2rVrHX4hWL16tfLnz68iRYpIkgoWLKjTp0/b+2NjY3XkyJFUc61bty7VctmyZdN8XldXV4WFhTncxi05OVlLly5Ntcf8r7/+ctgLAwC4deXKlZObm5uOHTumUqVKOTxSjvxavXq1HnroIfXs2VNVqlRRqVKldOjQIYd5Mrrtu5nAwEAFBwfr8OHDqeoJDQ3N8DwZradKlSqKjIx0CN6PPPKIfH19NWbMmEy9hoxs3wsWLKiLFy86/F6S1lFgx44dc7jN57p16+Tk5KTSpUtnqrYU8fHxOnToENtR5FiEbiAXmjhxopKSklS9enXNmTNHBw4c0J49ezR+/Hh7mGvcuLEqVKigjh07asuWLdqwYYM6d+6sevXqORw2djPFixfX+vXrdfToUf3zzz/p/tU9X7586tGjh1599VUtXrxYu3fv1gsvvKDLly+rW7duGX6+pk2batWqVQ5t/fv3V61atdSoUSN9/PHH2rJli44cOaLffvtNixYtSrW34L969uyp48ePq0+fPtq7d69++uknjRgxQgMGDLDfUqVhw4b6+uuvtXLlSu3cuVPh4eFpzvvDDz9oypQp2r9/v0aMGKENGzaod+/e6T73gAED9MUXX9hv0dKjRw9dunRJXbt2dRi3cuVKPfLIIxl9mwAAacifP79eeeUV9e/fX9OnT9ehQ4e0ZcsWTZgwQdOnT5f0757fTZs26bffftP+/fs1fPhwbdy40WGe4sWLa8eOHdq3b5/++eef29prO2rUKI0ePVrjx4/X/v37tXPnTk2dOlUffvhhhucoXry44uLitHTpUv3zzz/pHkZdpUoV+fv7OwRkT09Pffnll/r111/12GOP6bffftPhw4e1Y8cOjR07VlLqve7Xy8j2vUaNGsqbN6+GDh2qQ4cOadasWZo2bVqqudzd3RUeHq7t27dr5cqV6tu3r5566qkbHlp+8OBBbdu2TZGRkbpy5Yq2bdumbdu2OdwSdN26dXJzc0v1B20gx8jeU8oBZNapU6dMr169TLFixYyrq6spXLiwadmypVm2bJl9TEZvGXa9jz76yBQrVsy+vG/fPlOzZk3j4eGR6pZh/70g2pUrV0yfPn2Mv79/pm8Zdu7cOePu7m727t3r0B4fH2/effddU6lSJePh4WHc3NxMmTJlTP/+/R0uFpfWhd+Mufktw2JiYkz79u2Nl5eXCQkJMdOmTUvzQmoTJ040TZo0MW5ubqZ48eL2q93eyIQJE0zRokWNq6urqV69ulm3bp1D/5o1a4yPj4+5fPnyTecCgHtVehdS++82JTk52YwbN86ULl3auLi4mIIFC5qmTZua5cuXG2P+3Z506dLFeHt7Gx8fH9OjRw/z2muvOWwPo6KiTJMmTYynp2eqW4Zt3br1hjWkdVGxmTNnmsqVKxtXV1dToEABU7duXfsFUdOa98KFC/bnTfHSSy8ZPz+/G94yzBhjBg0aZDp06JCqfePGjaZdu3YmICDAODs7Gz8/P9O0aVPz3Xffpbpl2K1u343598JppUqVMh4eHqZFixbm888/T/OWYZMmTTLBwcHG3d3dtGvXzuECb2mpV69eqlumpfw+kqJ79+7mxRdfvOE8QHayGZPBqzIBwB3y6quvKjY2Vp999ll2l+LAZrNp3rx5at26dZbO2759e1WqVElDhw7N0nkBAPeeyMhIlS9fXlu2bFGxYsWyuxy7kSNHav78+Vly8dHr/fPPPypdurQ2bdp0S4fsA3cSh5cDyHFef/11FStW7JYvIJMbXb16VRUqVFD//v2zuxQAwF0gKChIX331lY4dO5bdpdwRR48e1aRJkwjcyNHY0w0AGWTVnm4AAO52Vu3pBnIDQjcAAAAAABbh8HIAAAAAACxC6AYAAAAAwCKEbgAAAAAALELoBgAAAADAIoRuAAAAAAAsQugGAAAAAMAihG4AAP7DZrNl6BEREXFH6pk0aZKmTZt2R57rdu3evVsjR47U0aNHb2m9HTt2qGvXrgoNDZW7u7s8PT1VuXJlDRo0SIcPH7amWAAA7gDu0w0AwH988803DsszZszQ77//rq+//tqhvUmTJgoMDLS8ngceeED+/v53LOTfjh9//FFPPvmkli1bpvr162donS+++EI9evSQv7+/OnbsqDJlyujatWv666+/NGfOHJ0/f15XrlxRnjx5rC0eAAALOGd3AQAA5DTPPvusw/K6dev0+++/p2r/r8uXLytv3rxWlnbXWbNmjXr06KHatWvrl19+Uf78+R36P/jgA7399ts3nYf3HgCQU3F4OQAAmVC/fn098MAD2rx5s+rWrau8efNq6NChkqSEhASNGDFCpUqVkpubm0JCQjRo0CAlJCQ4zDF16lQ1bNhQAQEBcnNzU7ly5fTpp586jClevLh27dql5cuX2w9rT9mDPG3aNNlsNq1atUp9+/ZVwYIF5ePjoxdffFFXr15VdHS0OnfurAIFCqhAgQIaNGiQ/nuAW3JyssaNG6fy5cvL3d1dgYGBevHFF3XhwoVUdbRo0UKrVq1S9erV5e7urhIlSmjGjBn2MdOmTdOTTz4pSWrQoEGGDsMfNWqUbDabZs6cmSpwS5K7u7v+97//OezlvtF7HxUVpW7duikwMFDu7u6qVKmSpk+f7jBnREREmnUdPXpUNpvN4VD+Ll26yNPTU4cPH1bTpk2VL18+BQcH680330z1XgIAkBb2dAMAkEnnzp1T8+bN1aFDBz377LMKDAxUcnKyWrZsqVWrVql79+4qW7asdu7cqY8++kj79+/X/Pnz7et/+umnKl++vFq2bClnZ2ctWLBAPXv2VHJysnr16iVJGjdunPr06SNPT0+9/vrrkpTqkPY+ffooKChIo0aN0rp16/T555/Lx8dHa9asUdGiRfXOO+9o4cKFeu+99/TAAw+oc+fO9nVffPFFTZs2TV27dlXfvn115MgRffLJJ9q6datWr14tFxcX+9iDBw+qXbt26tatm8LDwzVlyhR16dJFYWFhKl++vOrWrau+fftq/PjxGjp0qMqWLStJ9n//6/Lly/rzzz9Vv359FSlS5Lbf+ytXrqh+/fo6ePCgevfurdDQUP3www/q0qWLoqOj1a9fv1t6jhRJSUlq1qyZatasqbFjx2rx4sUaMWKErl27pjfffDNTcwIA7iEGAADcUK9evcx/N5n16tUz/6+9+wtpqo3jAP7d5rbMhXSxMTCbbJpWBIGCiMgiSaHoroTImCWkA60gg5DQiwKpC2dMauLF6I8XuUFlZQuEpSJdBRlB4sjYhSRq0MwM/+w870V4Xk/b3nS5m9fvBwbb7znPc36dq34+fw4A4fF4FPEHDx4ItVothoeHFXGPxyMAiJGRETm2sLAQc6/KykphtVoVsf379wu73R5zrdfrFQBEZWWlkCRJjpeUlAiVSiXq6+vl2MrKiti1a5dinOHhYQFA9PT0KMYNBAIxcYvFIgCIoaEhOTY9PS30er24fPmyHPP5fAKACAaDMfn+bnR0VAAQly5dimn7+vWrmJmZkT+Li4tyW6Jn39HRIQCIhw8fyrGlpSVRUlIiDAaDmJubE0IIEQwG4+b4+fNnAUB4vV455nA4BADR2NgoxyRJEseOHRM6nU7MzMz88d9JRERbG5eXExERJUmv1+Ps2bOKmM/nw969e1FQUIDZ2Vn5c/jwYQBAMBiUr01PT5e/RyIRzM7Owm63Y2JiApFIZN151NbWQqVSyb+Li4shhEBtba0c02g0KCoqUpwE7vP5kJmZiSNHjihyLSwshMFgUOQKAPv27UNZWZn822g0Ij8/P+nTxefm5gAABoMhps1qtcJoNMqfvr4+RXu8Z9/f3w+z2YxTp07JMa1WiwsXLmB+fh6Dg4NJ5QkADQ0N8neVSoWGhgYsLS1hYGAg6TGJiGhr4PJyIiKiJGVlZUGn0ylioVAIHz9+hNFojNtnenpa/j4yMoLW1la8efMGCwsLiusikQgyMzPXlcfu3bsVv1f7ZWdnx8TX7tUOhUKIRCIwmUx/zDXefQBg586dMfu/12t1D/f8/HxM29OnT7G8vIzR0VE0NTXFtMd79uFwGHl5eVCrlXMKq8vbw+FwUnmq1WpYrVZFbM+ePQCw4VejERHR1sOim4iIKElrZ6pXSZKEAwcOoL29PW6f1UL406dPKC8vR0FBAdrb25GdnQ2dTof+/n64XC5IkrTuPBK9SiteXKw5/EuSJJhMJvT09MTt//sfDhLdRyR5oFhubi7S0tLw4cOHmDa73Q4ASEuL/1+VeM9+vdauClgrGo0mPSYREVEiLLqJiIg2kc1mw+joKMrLyxMWdwDw7NkzLC4uoq+vTzGD/PuSbiBxkbgZuQ4MDKC0tPSviti1NpJrRkYGDh06hMHBQUxOTiIrK+uv7m2xWPD+/XtIkqSY7R4bG5PbgV+z8wDw7ds3Rf9EM+GSJGFiYkKe3QaA8fFxAL9OdSciIvov3NNNRES0iaqqqjA5OYnu7u6Ytp8/f+LHjx8A/p01XjtLHIlE4PV6Y/plZGTEFIiblWs0GsX169dj2lZWVpK6Z0ZGBoDYgjaRlpYWRKNRVFdXx11mvpFZ9KNHj2JqagqPHj2SYysrK3C73TAYDPLsucVigUajwdDQkKL/nTt3Eo7d2dmpyKmzsxNarRbl5eXrzo+IiLYmznQTERFtojNnzqC3txf19fUIBoMoLS1FNBrF2NgYent78erVKxQVFaGiogI6nQ7Hjx9HXV0d5ufn0d3dDZPJhC9fvijGLCwsxN27d3Hjxg3k5ubCZDLJB7P9Dbvdjrq6OrS1teHdu3eoqKiAVqtFKBSCz+fD7du3ceLEiQ2NefDgQWg0Gty8eRORSAR6vV5+F3k8ZWVl6OzsRGNjI/Ly8nD69GkUFBRgaWkJ4+Pj6OnpgU6ng9ls/uO9z58/j66uLtTU1ODt27fIycmB3+/HyMgIOjo65D3kmZmZOHnyJNxuN1QqFWw2G54/fx6zh33Vtm3bEAgE4HA4UFxcjJcvX+LFixdobm5OuHefiIhoFYtuIiKiTaRWq/HkyRO4XC7cv38fjx8/xvbt22G1WnHx4kV5iXJ+fj78fj+uXbuGpqYmmM1mOJ1OGI1GnDt3TjFmS0sLwuEwbt26he/fv8Nut29K0Q0AHo8HhYWF6OrqQnNzM9LS0pCTk4Pq6mqUlpZueDyz2QyPx4O2tjbU1tYiGo0iGAwmLLoBwOl0oqSkBC6XCz6fD1NTU9BqtbDZbHA4HHA6nbDZbH+8d3p6Ol6/fo2rV6/i3r17mJubQ35+PrxeL2pqahTXut1uLC8vw+PxQK/Xo6qqSn6P+e80Gg0CgQCcTieuXLmCHTt2oLW1FS0tLRt+PkREtPWoRLKnnxARERH9z9XU1MDv98dd+k5ERLQe3NNNRERERERElCIsuomIiIiIiIhShEU3ERERERERUYpwTzcRERERERFRinCmm4iIiIiIiChFWHQTERERERERpQiLbiIiIiIiIqIUYdFNRERERERElCIsuomIiIiIiIhShEU3ERERERERUYqw6CYiIiIiIiJKERbdRERERERERCnCopuIiIiIiIgoRf4BsqTM13lFd+MAAAAASUVORK5CYII=\n"
          },
          "metadata": {}
        }
      ]
    },
    {
      "cell_type": "code",
      "metadata": {
        "colab": {
          "base_uri": "https://localhost:8080/"
        },
        "id": "e1e1857d",
        "executionInfo": {
          "status": "ok",
          "timestamp": 1755194148880,
          "user_tz": 240,
          "elapsed": 3,
          "user": {
            "displayName": "",
            "userId": ""
          }
        },
        "outputId": "130503c3-40b2-46a9-c777-f2c9adec4d56"
      },
      "source": [
        "from scipy.stats import chi2_contingency\n",
        "\n",
        "# Perform the Chi-squared test on the contingency table\n",
        "chi2, p, dof, expected = chi2_contingency(treatment_outcome)\n",
        "\n",
        "print(f\"Chi-squared Test Results:\")\n",
        "print(f\"Chi2 Statistic: {chi2:.4f}\")\n",
        "print(f\"P-value: {p:.4f}\")\n",
        "\n",
        "# Interpret the p-value\n",
        "alpha = 0.05\n",
        "if p < alpha:\n",
        "    print(f\"\\nThe result is statistically significant (p < {alpha}).\")\n",
        "    print(\"There is a significant association between the treatment group and the death event.\")\n",
        "else:\n",
        "    print(f\"\\nThe result is not statistically significant (p >= {alpha}).\")\n",
        "    print(\"There is no significant association between the treatment group and the death event.\")"
      ],
      "execution_count": 34,
      "outputs": [
        {
          "output_type": "stream",
          "name": "stdout",
          "text": [
            "Chi-squared Test Results:\n",
            "Chi2 Statistic: 8.1183\n",
            "P-value: 0.0044\n",
            "\n",
            "The result is statistically significant (p < 0.05).\n",
            "There is a significant association between the treatment group and the death event.\n"
          ]
        }
      ]
    },
    {
      "cell_type": "markdown",
      "source": [
        "**Prompt 4**: build a predictive model: this help find the factors that predict patient mortality. The data science agent will:\n",
        "\n",
        "1.   generate code to split data into training and testing groups\n",
        "2.   train a classification model (using random forest / logistic regression)\n",
        "3.   evaluate the model and show metrics like accuracy, precision and recall\n",
        "4.   generate a feature importance plot that show which clinical factors were most predictive to the outcome\n",
        "\n",
        "\n",
        "\"Build a machine learning model to predict the DEATH_EVENT. Use columns like age, serum_creatinine, ejection_fraction, and anaemia as features. Show me the model's accuracy and which features are most important.\"\n",
        "\n"
      ],
      "metadata": {
        "id": "7dOcwJx9uu56"
      }
    },
    {
      "cell_type": "markdown",
      "metadata": {
        "id": "392f3978"
      },
      "source": [
        "## Step 1: Data Preparation\n",
        "\n",
        "### Subtask:\n",
        "Select the specified features (`age`, `serum_creatinine`, `ejection_fraction`, `anaemia`) and the target variable (`DEATH_EVENT`). Convert the data into a format suitable for scikit-learn."
      ]
    },
    {
      "cell_type": "markdown",
      "metadata": {
        "id": "553dbd3f"
      },
      "source": [
        "**Reasoning**: I am starting with the first step of the plan, \"Data Preparation\". I will write Python code to select the specified features and target variable, then convert them to pandas DataFrames for use with scikit-learn."
      ]
    },
    {
      "cell_type": "code",
      "metadata": {
        "colab": {
          "base_uri": "https://localhost:8080/",
          "height": 516
        },
        "id": "dbe81d49",
        "executionInfo": {
          "status": "ok",
          "timestamp": 1755194444552,
          "user_tz": 240,
          "elapsed": 12694,
          "user": {
            "displayName": "",
            "userId": ""
          }
        },
        "outputId": "b846dd10-afbb-472b-8981-671cec2df13b"
      },
      "source": [
        "# Select features and target variable\n",
        "features = ['age', 'serum_creatinine', 'ejection_fraction', 'anaemia']\n",
        "target = 'DEATH_EVENT'\n",
        "\n",
        "# Create the feature matrix X and target vector y\n",
        "# Convert to pandas DataFrame for scikit-learn compatibility\n",
        "X = df[features].to_pandas()\n",
        "y = df[target].to_pandas()\n",
        "\n",
        "print(\"Selected features (X):\")\n",
        "display(X.head())\n",
        "print(\"\\nTarget variable (y):\")\n",
        "display(y.head())"
      ],
      "execution_count": 35,
      "outputs": [
        {
          "output_type": "display_data",
          "data": {
            "text/plain": [
              "<IPython.core.display.HTML object>"
            ],
            "text/html": [
              "Query job 91a01b69-a255-45d3-8432-1bb5accc32ab is DONE. 44.9 kB processed. <a target=\"_blank\" href=\"https://console.cloud.google.com/bigquery?project=cat-looker-core-argolis-demo&j=bq:US:91a01b69-a255-45d3-8432-1bb5accc32ab&page=queryresults\">Open Job</a>"
            ]
          },
          "metadata": {}
        },
        {
          "output_type": "display_data",
          "data": {
            "text/plain": [
              "<IPython.core.display.HTML object>"
            ],
            "text/html": [
              "Query job d0a0f629-9e04-4979-89d1-b9a5082cdfb8 is DONE. 44.9 kB processed. <a target=\"_blank\" href=\"https://console.cloud.google.com/bigquery?project=cat-looker-core-argolis-demo&j=bq:US:d0a0f629-9e04-4979-89d1-b9a5082cdfb8&page=queryresults\">Open Job</a>"
            ]
          },
          "metadata": {}
        },
        {
          "output_type": "stream",
          "name": "stdout",
          "text": [
            "Selected features (X):\n"
          ]
        },
        {
          "output_type": "display_data",
          "data": {
            "text/plain": [
              "    age  serum_creatinine  ejection_fraction  anaemia\n",
              "0  65.0               0.8                 35        1\n",
              "1  73.0              1.83                 20        0\n",
              "2  50.0               0.6                 50        0\n",
              "3  70.0               0.8                 45        0\n",
              "4  66.0               1.0                 38        1"
            ],
            "text/html": [
              "\n",
              "  <div id=\"df-4025b126-2eb6-4423-b683-505ba934816a\" class=\"colab-df-container\">\n",
              "    <div>\n",
              "<style scoped>\n",
              "    .dataframe tbody tr th:only-of-type {\n",
              "        vertical-align: middle;\n",
              "    }\n",
              "\n",
              "    .dataframe tbody tr th {\n",
              "        vertical-align: top;\n",
              "    }\n",
              "\n",
              "    .dataframe thead th {\n",
              "        text-align: right;\n",
              "    }\n",
              "</style>\n",
              "<table border=\"1\" class=\"dataframe\">\n",
              "  <thead>\n",
              "    <tr style=\"text-align: right;\">\n",
              "      <th></th>\n",
              "      <th>age</th>\n",
              "      <th>serum_creatinine</th>\n",
              "      <th>ejection_fraction</th>\n",
              "      <th>anaemia</th>\n",
              "    </tr>\n",
              "  </thead>\n",
              "  <tbody>\n",
              "    <tr>\n",
              "      <th>0</th>\n",
              "      <td>65.0</td>\n",
              "      <td>0.8</td>\n",
              "      <td>35</td>\n",
              "      <td>1</td>\n",
              "    </tr>\n",
              "    <tr>\n",
              "      <th>1</th>\n",
              "      <td>73.0</td>\n",
              "      <td>1.83</td>\n",
              "      <td>20</td>\n",
              "      <td>0</td>\n",
              "    </tr>\n",
              "    <tr>\n",
              "      <th>2</th>\n",
              "      <td>50.0</td>\n",
              "      <td>0.6</td>\n",
              "      <td>50</td>\n",
              "      <td>0</td>\n",
              "    </tr>\n",
              "    <tr>\n",
              "      <th>3</th>\n",
              "      <td>70.0</td>\n",
              "      <td>0.8</td>\n",
              "      <td>45</td>\n",
              "      <td>0</td>\n",
              "    </tr>\n",
              "    <tr>\n",
              "      <th>4</th>\n",
              "      <td>66.0</td>\n",
              "      <td>1.0</td>\n",
              "      <td>38</td>\n",
              "      <td>1</td>\n",
              "    </tr>\n",
              "  </tbody>\n",
              "</table>\n",
              "</div>\n",
              "    <div class=\"colab-df-buttons\">\n",
              "\n",
              "  <div class=\"colab-df-container\">\n",
              "    <button class=\"colab-df-convert\" onclick=\"convertToInteractive('df-4025b126-2eb6-4423-b683-505ba934816a')\"\n",
              "            title=\"Convert this dataframe to an interactive table.\"\n",
              "            style=\"display:none;\">\n",
              "\n",
              "  <svg xmlns=\"http://www.w3.org/2000/svg\" height=\"24px\" viewBox=\"0 -960 960 960\">\n",
              "    <path d=\"M120-120v-720h720v720H120Zm60-500h600v-160H180v160Zm220 220h160v-160H400v160Zm0 220h160v-160H400v160ZM180-400h160v-160H180v160Zm440 0h160v-160H620v160ZM180-180h160v-160H180v160Zm440 0h160v-160H620v160Z\"/>\n",
              "  </svg>\n",
              "    </button>\n",
              "\n",
              "  <style>\n",
              "    .colab-df-container {\n",
              "      display:flex;\n",
              "      gap: 12px;\n",
              "    }\n",
              "\n",
              "    .colab-df-convert {\n",
              "      background-color: #E8F0FE;\n",
              "      border: none;\n",
              "      border-radius: 50%;\n",
              "      cursor: pointer;\n",
              "      display: none;\n",
              "      fill: #1967D2;\n",
              "      height: 32px;\n",
              "      padding: 0 0 0 0;\n",
              "      width: 32px;\n",
              "    }\n",
              "\n",
              "    .colab-df-convert:hover {\n",
              "      background-color: #E2EBFA;\n",
              "      box-shadow: 0px 1px 2px rgba(60, 64, 67, 0.3), 0px 1px 3px 1px rgba(60, 64, 67, 0.15);\n",
              "      fill: #174EA6;\n",
              "    }\n",
              "\n",
              "    .colab-df-buttons div {\n",
              "      margin-bottom: 4px;\n",
              "    }\n",
              "\n",
              "    [theme=dark] .colab-df-convert {\n",
              "      background-color: #3B4455;\n",
              "      fill: #D2E3FC;\n",
              "    }\n",
              "\n",
              "    [theme=dark] .colab-df-convert:hover {\n",
              "      background-color: #434B5C;\n",
              "      box-shadow: 0px 1px 3px 1px rgba(0, 0, 0, 0.15);\n",
              "      filter: drop-shadow(0px 1px 2px rgba(0, 0, 0, 0.3));\n",
              "      fill: #FFFFFF;\n",
              "    }\n",
              "  </style>\n",
              "\n",
              "    <script>\n",
              "      const buttonEl =\n",
              "        document.querySelector('#df-4025b126-2eb6-4423-b683-505ba934816a button.colab-df-convert');\n",
              "      buttonEl.style.display =\n",
              "        google.colab.kernel.accessAllowed ? 'block' : 'none';\n",
              "\n",
              "      async function convertToInteractive(key) {\n",
              "        const element = document.querySelector('#df-4025b126-2eb6-4423-b683-505ba934816a');\n",
              "        const dataTable =\n",
              "          await google.colab.kernel.invokeFunction('convertToInteractive',\n",
              "                                                    [key], {});\n",
              "        if (!dataTable) return;\n",
              "\n",
              "        const docLinkHtml = 'Like what you see? Visit the ' +\n",
              "          '<a target=\"_blank\" href=https://colab.research.google.com/notebooks/data_table.ipynb>data table notebook</a>'\n",
              "          + ' to learn more about interactive tables.';\n",
              "        element.innerHTML = '';\n",
              "        dataTable['output_type'] = 'display_data';\n",
              "        await google.colab.output.renderOutput(dataTable, element);\n",
              "        const docLink = document.createElement('div');\n",
              "        docLink.innerHTML = docLinkHtml;\n",
              "        element.appendChild(docLink);\n",
              "      }\n",
              "    </script>\n",
              "  </div>\n",
              "\n",
              "\n",
              "<div id=\"df-f77fc2e9-8c2d-4041-8739-62a3423b3cdf\">\n",
              "  <button class=\"colab-df-quickchart\" onclick=\"quickchart('df-f77fc2e9-8c2d-4041-8739-62a3423b3cdf')\"\n",
              "            title=\"Suggest charts\"\n",
              "            style=\"display:none;\">\n",
              "\n",
              "<svg xmlns=\"http://www.w3.org/2000/svg\" height=\"24px\"viewBox=\"0 0 24 24\"\n",
              "     width=\"24px\">\n",
              "    <g>\n",
              "        <path d=\"M19 3H5c-1.1 0-2 .9-2 2v14c0 1.1.9 2 2 2h14c1.1 0 2-.9 2-2V5c0-1.1-.9-2-2-2zM9 17H7v-7h2v7zm4 0h-2V7h2v10zm4 0h-2v-4h2v4z\"/>\n",
              "    </g>\n",
              "</svg>\n",
              "  </button>\n",
              "\n",
              "<style>\n",
              "  .colab-df-quickchart {\n",
              "      --bg-color: #E8F0FE;\n",
              "      --fill-color: #1967D2;\n",
              "      --hover-bg-color: #E2EBFA;\n",
              "      --hover-fill-color: #174EA6;\n",
              "      --disabled-fill-color: #AAA;\n",
              "      --disabled-bg-color: #DDD;\n",
              "  }\n",
              "\n",
              "  [theme=dark] .colab-df-quickchart {\n",
              "      --bg-color: #3B4455;\n",
              "      --fill-color: #D2E3FC;\n",
              "      --hover-bg-color: #434B5C;\n",
              "      --hover-fill-color: #FFFFFF;\n",
              "      --disabled-bg-color: #3B4455;\n",
              "      --disabled-fill-color: #666;\n",
              "  }\n",
              "\n",
              "  .colab-df-quickchart {\n",
              "    background-color: var(--bg-color);\n",
              "    border: none;\n",
              "    border-radius: 50%;\n",
              "    cursor: pointer;\n",
              "    display: none;\n",
              "    fill: var(--fill-color);\n",
              "    height: 32px;\n",
              "    padding: 0;\n",
              "    width: 32px;\n",
              "  }\n",
              "\n",
              "  .colab-df-quickchart:hover {\n",
              "    background-color: var(--hover-bg-color);\n",
              "    box-shadow: 0 1px 2px rgba(60, 64, 67, 0.3), 0 1px 3px 1px rgba(60, 64, 67, 0.15);\n",
              "    fill: var(--button-hover-fill-color);\n",
              "  }\n",
              "\n",
              "  .colab-df-quickchart-complete:disabled,\n",
              "  .colab-df-quickchart-complete:disabled:hover {\n",
              "    background-color: var(--disabled-bg-color);\n",
              "    fill: var(--disabled-fill-color);\n",
              "    box-shadow: none;\n",
              "  }\n",
              "\n",
              "  .colab-df-spinner {\n",
              "    border: 2px solid var(--fill-color);\n",
              "    border-color: transparent;\n",
              "    border-bottom-color: var(--fill-color);\n",
              "    animation:\n",
              "      spin 1s steps(1) infinite;\n",
              "  }\n",
              "\n",
              "  @keyframes spin {\n",
              "    0% {\n",
              "      border-color: transparent;\n",
              "      border-bottom-color: var(--fill-color);\n",
              "      border-left-color: var(--fill-color);\n",
              "    }\n",
              "    20% {\n",
              "      border-color: transparent;\n",
              "      border-left-color: var(--fill-color);\n",
              "      border-top-color: var(--fill-color);\n",
              "    }\n",
              "    30% {\n",
              "      border-color: transparent;\n",
              "      border-left-color: var(--fill-color);\n",
              "      border-top-color: var(--fill-color);\n",
              "      border-right-color: var(--fill-color);\n",
              "    }\n",
              "    40% {\n",
              "      border-color: transparent;\n",
              "      border-right-color: var(--fill-color);\n",
              "      border-top-color: var(--fill-color);\n",
              "    }\n",
              "    60% {\n",
              "      border-color: transparent;\n",
              "      border-right-color: var(--fill-color);\n",
              "    }\n",
              "    80% {\n",
              "      border-color: transparent;\n",
              "      border-right-color: var(--fill-color);\n",
              "      border-bottom-color: var(--fill-color);\n",
              "    }\n",
              "    90% {\n",
              "      border-color: transparent;\n",
              "      border-bottom-color: var(--fill-color);\n",
              "    }\n",
              "  }\n",
              "</style>\n",
              "\n",
              "  <script>\n",
              "    async function quickchart(key) {\n",
              "      const quickchartButtonEl =\n",
              "        document.querySelector('#' + key + ' button');\n",
              "      quickchartButtonEl.disabled = true;  // To prevent multiple clicks.\n",
              "      quickchartButtonEl.classList.add('colab-df-spinner');\n",
              "      try {\n",
              "        const charts = await google.colab.kernel.invokeFunction(\n",
              "            'suggestCharts', [key], {});\n",
              "      } catch (error) {\n",
              "        console.error('Error during call to suggestCharts:', error);\n",
              "      }\n",
              "      quickchartButtonEl.classList.remove('colab-df-spinner');\n",
              "      quickchartButtonEl.classList.add('colab-df-quickchart-complete');\n",
              "    }\n",
              "    (() => {\n",
              "      let quickchartButtonEl =\n",
              "        document.querySelector('#df-f77fc2e9-8c2d-4041-8739-62a3423b3cdf button');\n",
              "      quickchartButtonEl.style.display =\n",
              "        google.colab.kernel.accessAllowed ? 'block' : 'none';\n",
              "    })();\n",
              "  </script>\n",
              "</div>\n",
              "\n",
              "    </div>\n",
              "  </div>\n"
            ],
            "application/vnd.google.colaboratory.intrinsic+json": {
              "type": "dataframe",
              "summary": "{\n  \"name\": \"display(y\",\n  \"rows\": 5,\n  \"fields\": [\n    {\n      \"column\": \"age\",\n      \"properties\": {\n        \"dtype\": \"Float64\",\n        \"num_unique_values\": 5,\n        \"samples\": [\n          73.0,\n          66.0,\n          50.0\n        ],\n        \"semantic_type\": \"\",\n        \"description\": \"\"\n      }\n    },\n    {\n      \"column\": \"serum_creatinine\",\n      \"properties\": {\n        \"dtype\": \"Float64\",\n        \"num_unique_values\": 4,\n        \"samples\": [\n          1.83,\n          1.0,\n          0.8\n        ],\n        \"semantic_type\": \"\",\n        \"description\": \"\"\n      }\n    },\n    {\n      \"column\": \"ejection_fraction\",\n      \"properties\": {\n        \"dtype\": \"Int64\",\n        \"num_unique_values\": 5,\n        \"samples\": [\n          20,\n          38,\n          50\n        ],\n        \"semantic_type\": \"\",\n        \"description\": \"\"\n      }\n    },\n    {\n      \"column\": \"anaemia\",\n      \"properties\": {\n        \"dtype\": \"Int64\",\n        \"num_unique_values\": 2,\n        \"samples\": [\n          0,\n          1\n        ],\n        \"semantic_type\": \"\",\n        \"description\": \"\"\n      }\n    }\n  ]\n}"
            }
          },
          "metadata": {}
        },
        {
          "output_type": "stream",
          "name": "stdout",
          "text": [
            "\n",
            "Target variable (y):\n"
          ]
        },
        {
          "output_type": "display_data",
          "data": {
            "text/plain": [
              "0    0\n",
              "1    1\n",
              "2    1\n",
              "3    0\n",
              "4    0\n",
              "Name: DEATH_EVENT, dtype: Int64"
            ],
            "text/html": [
              "<div>\n",
              "<style scoped>\n",
              "    .dataframe tbody tr th:only-of-type {\n",
              "        vertical-align: middle;\n",
              "    }\n",
              "\n",
              "    .dataframe tbody tr th {\n",
              "        vertical-align: top;\n",
              "    }\n",
              "\n",
              "    .dataframe thead th {\n",
              "        text-align: right;\n",
              "    }\n",
              "</style>\n",
              "<table border=\"1\" class=\"dataframe\">\n",
              "  <thead>\n",
              "    <tr style=\"text-align: right;\">\n",
              "      <th></th>\n",
              "      <th>DEATH_EVENT</th>\n",
              "    </tr>\n",
              "  </thead>\n",
              "  <tbody>\n",
              "    <tr>\n",
              "      <th>0</th>\n",
              "      <td>0</td>\n",
              "    </tr>\n",
              "    <tr>\n",
              "      <th>1</th>\n",
              "      <td>1</td>\n",
              "    </tr>\n",
              "    <tr>\n",
              "      <th>2</th>\n",
              "      <td>1</td>\n",
              "    </tr>\n",
              "    <tr>\n",
              "      <th>3</th>\n",
              "      <td>0</td>\n",
              "    </tr>\n",
              "    <tr>\n",
              "      <th>4</th>\n",
              "      <td>0</td>\n",
              "    </tr>\n",
              "  </tbody>\n",
              "</table>\n",
              "</div><br><label><b>dtype:</b> Int64</label>"
            ]
          },
          "metadata": {}
        }
      ]
    },
    {
      "cell_type": "markdown",
      "metadata": {
        "id": "bbbf010b"
      },
      "source": [
        "## Step 2: Split Data for Training and Testing\n",
        "\n",
        "### Subtask:\n",
        "Divide the dataset into a training set for building the model and a testing set for evaluating its performance on unseen data."
      ]
    },
    {
      "cell_type": "markdown",
      "metadata": {
        "id": "817c3961"
      },
      "source": [
        "**Reasoning**: The data has been successfully prepared. I will now proceed to the next step in our plan, which is to split the data into training and testing sets. This is a crucial step to ensure we can evaluate our model's performance on unseen data."
      ]
    },
    {
      "cell_type": "code",
      "metadata": {
        "colab": {
          "base_uri": "https://localhost:8080/"
        },
        "id": "405240b5",
        "executionInfo": {
          "status": "ok",
          "timestamp": 1755194483263,
          "user_tz": 240,
          "elapsed": 127,
          "user": {
            "displayName": "",
            "userId": ""
          }
        },
        "outputId": "1de26d23-1a95-4fb5-8181-21b17d7defb1"
      },
      "source": [
        "from sklearn.model_selection import train_test_split\n",
        "\n",
        "# Split the data into training (80%) and testing (20%) sets\n",
        "# We use stratify=y to ensure the proportion of outcomes is the same in both sets\n",
        "X_train, X_test, y_train, y_test = train_test_split(X, y, test_size=0.2, random_state=42, stratify=y)\n",
        "\n",
        "print(\"Data successfully split into training and testing sets.\")\n",
        "print(f\"Training set shape: {X_train.shape}\")\n",
        "print(f\"Testing set shape: {X_test.shape}\")"
      ],
      "execution_count": 38,
      "outputs": [
        {
          "output_type": "stream",
          "name": "stdout",
          "text": [
            "Data successfully split into training and testing sets.\n",
            "Training set shape: (239, 4)\n",
            "Testing set shape: (60, 4)\n"
          ]
        }
      ]
    },
    {
      "cell_type": "markdown",
      "metadata": {
        "id": "e440cc96"
      },
      "source": [
        "## Step 3: Train a Classification Model\n",
        "\n",
        "### Subtask:\n",
        "Build and train a Logistic Regression model, a suitable choice for this binary classification task."
      ]
    },
    {
      "cell_type": "markdown",
      "metadata": {
        "id": "d29a37e1"
      },
      "source": [
        "**Reasoning**: The data has been successfully split into training and testing sets. The next logical step, as outlined in our plan, is to train the machine learning model. I will now create the code to train a Logistic Regression model using the `X_train` and `y_train` datasets."
      ]
    },
    {
      "cell_type": "code",
      "metadata": {
        "colab": {
          "base_uri": "https://localhost:8080/"
        },
        "id": "ca6dcc0d",
        "executionInfo": {
          "status": "ok",
          "timestamp": 1755194489237,
          "user_tz": 240,
          "elapsed": 293,
          "user": {
            "displayName": "",
            "userId": ""
          }
        },
        "outputId": "300dd2b1-350b-42fd-9e66-8403d87d7f0a"
      },
      "source": [
        "from sklearn.linear_model import LogisticRegression\n",
        "\n",
        "# Initialize the Logistic Regression model\n",
        "model = LogisticRegression(random_state=42)\n",
        "\n",
        "# Train the model on the training data\n",
        "model.fit(X_train, y_train)\n",
        "\n",
        "print(\"Logistic Regression model successfully trained.\")"
      ],
      "execution_count": 39,
      "outputs": [
        {
          "output_type": "stream",
          "name": "stdout",
          "text": [
            "Logistic Regression model successfully trained.\n"
          ]
        }
      ]
    },
    {
      "cell_type": "markdown",
      "metadata": {
        "id": "967c8087"
      },
      "source": [
        "## Step 4: Evaluate Model Performance\n",
        "\n",
        "### Subtask:\n",
        "Calculate the model's accuracy, precision, and recall to see how well it predicts the `DEATH_EVENT` on the test data."
      ]
    },
    {
      "cell_type": "markdown",
      "metadata": {
        "id": "e4f35573"
      },
      "source": [
        "**Reasoning**: The model has been successfully trained. The next logical step, according to the plan, is to evaluate its performance on the test data. I will generate the code to make predictions and then calculate and display key performance metrics like accuracy, precision, and recall."
      ]
    },
    {
      "cell_type": "code",
      "metadata": {
        "colab": {
          "base_uri": "https://localhost:8080/"
        },
        "id": "a1a4e759",
        "executionInfo": {
          "status": "ok",
          "timestamp": 1755194510679,
          "user_tz": 240,
          "elapsed": 134,
          "user": {
            "displayName": "",
            "userId": ""
          }
        },
        "outputId": "0fe01859-b9ad-4aee-e8a1-3169b9287850"
      },
      "source": [
        "from sklearn.metrics import accuracy_score, classification_report, confusion_matrix\n",
        "\n",
        "# Make predictions on the test data\n",
        "y_pred = model.predict(X_test)\n",
        "\n",
        "# Calculate the accuracy of the model\n",
        "accuracy = accuracy_score(y_test, y_pred)\n",
        "print(f\"Model Accuracy: {accuracy:.2f}\")\n",
        "\n",
        "# Display a more detailed classification report\n",
        "print(\"\\nClassification Report:\")\n",
        "print(classification_report(y_test, y_pred, target_names=['Survived', 'Died']))"
      ],
      "execution_count": 40,
      "outputs": [
        {
          "output_type": "stream",
          "name": "stdout",
          "text": [
            "Model Accuracy: 0.73\n",
            "\n",
            "Classification Report:\n",
            "              precision    recall  f1-score   support\n",
            "\n",
            "    Survived       0.76      0.91      0.83        43\n",
            "        Died       0.56      0.29      0.38        17\n",
            "\n",
            "    accuracy                           0.73        60\n",
            "   macro avg       0.66      0.60      0.61        60\n",
            "weighted avg       0.71      0.73      0.70        60\n",
            "\n"
          ]
        }
      ]
    },
    {
      "cell_type": "markdown",
      "metadata": {
        "id": "e08f8974"
      },
      "source": [
        "## Step 5: Analyze Feature Importance\n",
        "\n",
        "### Subtask:\n",
        "Determine which of the selected features has the most significant impact on the prediction and visualize the results."
      ]
    },
    {
      "cell_type": "markdown",
      "metadata": {
        "id": "6bf9c7b3"
      },
      "source": [
        "**Reasoning**: The model has been successfully evaluated. The next logical step, as outlined in our plan, is to determine which features were most influential in the model's predictions. I will generate code to extract the feature importances (coefficients) from the trained logistic regression model and visualize them using a bar chart."
      ]
    },
    {
      "cell_type": "code",
      "metadata": {
        "colab": {
          "base_uri": "https://localhost:8080/",
          "height": 643
        },
        "id": "e8316fc4",
        "executionInfo": {
          "status": "ok",
          "timestamp": 1755194541156,
          "user_tz": 240,
          "elapsed": 469,
          "user": {
            "displayName": "",
            "userId": ""
          }
        },
        "outputId": "aa82d423-e42c-41d0-ccbd-38b37a287dfc"
      },
      "source": [
        "import matplotlib.pyplot as plt\n",
        "import pandas as pd\n",
        "\n",
        "# Get feature importances from the logistic regression model's coefficients\n",
        "importances = model.coef_[0]\n",
        "\n",
        "# Create a pandas Series for easier plotting\n",
        "feature_importances = pd.Series(importances, index=X_train.columns)\n",
        "\n",
        "# Sort the features by importance for better visualization\n",
        "feature_importances = feature_importances.sort_values(ascending=True)\n",
        "\n",
        "# Create a horizontal bar plot\n",
        "plt.figure(figsize=(10, 6))\n",
        "feature_importances.plot(kind='barh', color='skyblue')\n",
        "plt.title('Feature Importance from Logistic Regression')\n",
        "plt.xlabel('Coefficient Value (Importance)')\n",
        "plt.ylabel('Feature')\n",
        "plt.tight_layout()\n",
        "plt.show()\n",
        "\n",
        "print(\"\\nFeature Coefficients:\")\n",
        "print(feature_importances.sort_values(ascending=False))"
      ],
      "execution_count": 41,
      "outputs": [
        {
          "output_type": "display_data",
          "data": {
            "text/plain": [
              "<Figure size 1000x600 with 1 Axes>"
            ],
            "image/png": "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\n"
          },
          "metadata": {}
        },
        {
          "output_type": "stream",
          "name": "stdout",
          "text": [
            "\n",
            "Feature Coefficients:\n",
            "serum_creatinine     0.706745\n",
            "anaemia              0.516092\n",
            "age                  0.038250\n",
            "ejection_fraction   -0.058075\n",
            "dtype: float64\n"
          ]
        }
      ]
    },
    {
      "cell_type": "markdown",
      "metadata": {
        "id": "b4f8d5b2"
      },
      "source": [
        "## Summary of Predictive Model Findings\n",
        "\n",
        "We have successfully built and evaluated a logistic regression model to predict patient mortality (`DEATH_EVENT`) based on four clinical features. Here are the key takeaways:\n",
        "\n",
        "### Model Performance\n",
        "\n",
        "*   **Accuracy**: The model achieved an overall accuracy of **73%** on the test set. This means it correctly predicted the outcome for about 3 out of every 4 patients in the unseen data.\n",
        "*   **Classification Report**: While the overall accuracy is decent, the model is much better at predicting survival than death. It correctly identifies patients who will survive (recall of 0.91 for 'Survived') but struggles to identify patients who will die (recall of only 0.29 for 'Died'). This is a common challenge in datasets with imbalanced classes.\n",
        "\n",
        "### Key Predictive Factors\n",
        "\n",
        "The feature importance analysis, based on the model's coefficients, revealed the most significant predictors of mortality:\n",
        "\n",
        "1.  **Serum Creatinine**: This was the most influential factor. A higher level of serum creatinine in the blood is strongly associated with an increased risk of death.\n",
        "2.  **Anaemia**: The presence of anaemia was the second most important predictor, also associated with a higher risk of death.\n",
        "3.  **Age**: Older age was also a predictor of a higher likelihood of death, though its impact was less pronounced than the first two factors.\n",
        "4.  **Ejection Fraction**: This feature had a negative coefficient, meaning a *higher* ejection fraction (a healthier heart) is associated with a *lower* probability of death.\n",
        "\n",
        "In conclusion, the model suggests that lab values like `serum_creatinine` and conditions like `anaemia` are the strongest predictors of mortality in this dataset, followed by the patient's age and ejection fraction."
      ]
    }
  ]
}
